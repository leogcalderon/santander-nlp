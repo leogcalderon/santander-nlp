{
 "cells": [
  {
   "cell_type": "markdown",
   "metadata": {
    "id": "ywh3dHZ5FByx"
   },
   "source": [
    "# 0. Imports"
   ]
  },
  {
   "cell_type": "code",
   "execution_count": null,
   "metadata": {
    "id": "ZfYG0wKKquEK"
   },
   "outputs": [],
   "source": [
    "!pip install transformers"
   ]
  },
  {
   "cell_type": "code",
   "execution_count": 2,
   "metadata": {
    "id": "BJEPppfarG_Y"
   },
   "outputs": [],
   "source": [
    "import pandas as pd\n",
    "import tensorflow as tf\n",
    "import matplotlib.pyplot as plt\n",
    "import seaborn as sns\n",
    "import numpy as np\n",
    "from tensorflow import keras\n",
    "import tensorflow as tf\n",
    "from sklearn.model_selection import train_test_split\n",
    "from sklearn.preprocessing import LabelEncoder\n",
    "from transformers import BertTokenizer, TFBertModel\n",
    "from sklearn.utils.class_weight import compute_class_weight\n",
    "from sklearn.metrics import accuracy_score, balanced_accuracy_score, confusion_matrix\n",
    "\n",
    "plt.rcParams['figure.figsize'] = (15,5)"
   ]
  },
  {
   "cell_type": "markdown",
   "metadata": {
    "id": "KnYmJ8F0rdsI"
   },
   "source": [
    "# 1. Data"
   ]
  },
  {
   "cell_type": "code",
   "execution_count": 33,
   "metadata": {
    "id": "gqNyEvOLrU-P"
   },
   "outputs": [],
   "source": [
    "#Leemos Datasets\n",
    "train = pd.read_csv('/content/drive/My Drive/train.csv', sep = '|')\n",
    "test = pd.read_csv('/content/drive/My Drive/test_santander.csv')\n",
    "\n",
    "#String de categorias -> Int\n",
    "label_encoder = LabelEncoder().fit(train['Intencion'])\n",
    "train.loc[:,'Intencion'] = label_encoder.transform(train['Intencion'])\n",
    "\n",
    "#Split train/test sets\n",
    "X_train, X_test, y_train, y_test = train_test_split(train['Pregunta'],\n",
    "                                                    train['Intencion'], \n",
    "                                                    test_size = 0.1, \n",
    "                                                    random_state = 1)"
   ]
  },
  {
   "cell_type": "code",
   "execution_count": 14,
   "metadata": {
    "colab": {
     "base_uri": "https://localhost:8080/",
     "height": 34
    },
    "id": "LRGVPTy8xRJi",
    "outputId": "d3d88da9-19e7-4e37-f989-966adb5606dd"
   },
   "outputs": [
    {
     "data": {
      "text/plain": [
       "((18093,), (2011,))"
      ]
     },
     "execution_count": 14,
     "metadata": {
      "tags": []
     },
     "output_type": "execute_result"
    }
   ],
   "source": [
    "X_train.shape, X_test.shape"
   ]
  },
  {
   "cell_type": "code",
   "execution_count": 15,
   "metadata": {
    "colab": {
     "base_uri": "https://localhost:8080/",
     "height": 34
    },
    "id": "EBIq3g0Rrxlm",
    "outputId": "ed2b2507-9bdf-45d9-f62d-3b645097684e"
   },
   "outputs": [
    {
     "data": {
      "text/plain": [
       "('me puedo dar de alta en club la nacion desde acá?', 194)"
      ]
     },
     "execution_count": 15,
     "metadata": {
      "tags": []
     },
     "output_type": "execute_result"
    }
   ],
   "source": [
    "np.array(X_train)[0], np.array(y_train)[0]"
   ]
  },
  {
   "cell_type": "code",
   "execution_count": 16,
   "metadata": {
    "colab": {
     "base_uri": "https://localhost:8080/",
     "height": 34
    },
    "id": "uSNI9cFfoP2D",
    "outputId": "25638e2f-0eb6-4037-bb06-150edec203c1"
   },
   "outputs": [
    {
     "name": "stdout",
     "output_type": "stream",
     "text": [
      "Pregunta mas larga: 43\n"
     ]
    }
   ],
   "source": [
    "print('Pregunta mas larga:',max([len(x.split(' ')) for x in X_train]))"
   ]
  },
  {
   "cell_type": "code",
   "execution_count": 34,
   "metadata": {
    "colab": {
     "base_uri": "https://localhost:8080/",
     "height": 34
    },
    "id": "yMJHct7tqtd9",
    "outputId": "3b56b6ff-95e3-4f33-859a-2ea783d7b53c"
   },
   "outputs": [
    {
     "data": {
      "text/plain": [
       "352"
      ]
     },
     "execution_count": 34,
     "metadata": {
      "tags": []
     },
     "output_type": "execute_result"
    }
   ],
   "source": [
    "#Numero de categorias presentes\n",
    "CLASSES = y_train.nunique()\n",
    "CLASSES"
   ]
  },
  {
   "cell_type": "code",
   "execution_count": 18,
   "metadata": {
    "colab": {
     "base_uri": "https://localhost:8080/",
     "height": 320
    },
    "id": "JxuYYtHJofCj",
    "outputId": "44f8b8f2-d0ef-44a1-d543-bcaa1be0a6d0"
   },
   "outputs": [
    {
     "data": {
      "image/png": "[encoded data removed]",
      "text/plain": [
       "<Figure size 1080x360 with 1 Axes>"
      ]
     },
     "metadata": {
      "needs_background": "light",
      "tags": []
     },
     "output_type": "display_data"
    }
   ],
   "source": [
    "#Histograma de las longitudes de las pregunas\n",
    "plt.hist([len(x.split(' ')) for x in X_train], bins = 'auto')\n",
    "plt.show()"
   ]
  },
  {
   "cell_type": "markdown",
   "metadata": {
    "id": "4ZeuInzrwABF"
   },
   "source": [
    "# 2. Create dataset"
   ]
  },
  {
   "cell_type": "code",
   "execution_count": 35,
   "metadata": {
    "id": "z34qPtxqrlQQ"
   },
   "outputs": [],
   "source": [
    "#Cargamos los pesos y vocabulario del modelo BETO (BERT entrenado con textos en español)\n",
    "#La librería transformers nos facilita clases para tokenizar los inputs segun lo requiera cada modelo\n",
    "#En este caso usaré BertTokenizer\n",
    "BERT_PRETRAINED_NAME = 'dccuchile/bert-base-spanish-wwm-cased'\n",
    "tokenizer = BertTokenizer.from_pretrained(BERT_PRETRAINED_NAME)"
   ]
  },
  {
   "cell_type": "markdown",
   "metadata": {
    "id": "IgTb_AevD8Tq"
   },
   "source": [
    "El modelo BERT debe ser alimentado con un formato especial. Al inicio de la oración, debe apendarse un token especial [CLS], un token especial al final de la misma [SEP] y tokens para el padding [PAD]. BERT fue entrenado con subwords, la clase BertTokenizer nos ayuda con esta tarea, al igual que todo el preprocesado neceesario para dejar listo los inputs del modelo."
   ]
  },
  {
   "cell_type": "code",
   "execution_count": 36,
   "metadata": {
    "colab": {
     "base_uri": "https://localhost:8080/",
     "height": 228
    },
    "id": "hf-Vo61MD7Ho",
    "outputId": "9fc77120-5107-47b7-d92c-d367e31f1ea8"
   },
   "outputs": [
    {
     "name": "stdout",
     "output_type": "stream",
     "text": [
      "Original: Hola, quisiera hacer un deposito con mi tarjeta de crédito, cuales son los pasos \n",
      "\n",
      "Tokenizado: ['Hola', ',', 'quisiera', 'hacer', 'un', 'deposit', '##o', 'con', 'mi', 'tarjeta', 'de', 'crédito', ',', 'cuales', 'son', 'los', 'pasos'] \n",
      "\n",
      "Full tokenized ['[CLS]', 'Hola', ',', 'quisiera', 'hacer', 'un', 'deposit', '##o', 'con', 'mi', 'tarjeta', 'de', 'crédito', ',', 'cuales', 'son', 'los', 'pasos', '[SEP]', '[PAD]', '[PAD]', '[PAD]', '[PAD]', '[PAD]', '[PAD]', '[PAD]', '[PAD]', '[PAD]', '[PAD]', '[PAD]', '[PAD]', '[PAD]'] \n",
      "\n",
      "Full ids: tensor([[    4,  1894,  1017,  6241,  1409,  1049, 17756, 30933,  1051,  1153,\n",
      "          7929,  1008,  4792,  1017,  3556,  1404,  1065,  8601,     5,     1,\n",
      "             1,     1,     1,     1,     1,     1,     1,     1,     1,     1,\n",
      "             1,     1]]) \n",
      "\n"
     ]
    }
   ],
   "source": [
    "ejemplo = 'Hola, quisiera hacer un deposito con mi tarjeta de crédito, cuales son los pasos'\n",
    "tokens = tokenizer.tokenize(ejemplo)\n",
    "ids = tokenizer.convert_tokens_to_ids(tokens)\n",
    "full = tokenizer.encode_plus(ejemplo,\n",
    "                             max_length=32,\n",
    "                             add_special_tokens=True,\n",
    "                             return_token_type_ids=False,\n",
    "                             padding='max_length',\n",
    "                             return_attention_mask=False,\n",
    "                             return_tensors='pt')\n",
    "\n",
    "print('Original:',ejemplo,'\\n')\n",
    "print('Tokenizado:',tokens,'\\n')\n",
    "print('Full tokenized', tokenizer.convert_ids_to_tokens(full['input_ids'].numpy()[0]),'\\n')\n",
    "print('Full ids:',full['input_ids'],'\\n')"
   ]
  },
  {
   "cell_type": "code",
   "execution_count": 21,
   "metadata": {
    "id": "OPYfc5BLr9JF"
   },
   "outputs": [],
   "source": [
    "#Creo una funcion para obtener un objeto dataset con el encoding necesario para el modelo.\n",
    "\n",
    "def encode_examples(X, y, max_len):\n",
    "    '''\n",
    "    Devuelve un generador (tf.data.Dataset). \n",
    "    Los inputs son tokenizados -> convertidos a su index -> agrega tokens especiales [CLS] [PAD] [SEP]\n",
    "    Args:\n",
    "      X = (pd.DataFrame/pd.Series/np.array/list) - Preguntas\n",
    "      y = (pd.DataFrame/pd.Series/np.array/list) - Categorias\n",
    "    '''\n",
    "    input_ids_list = []\n",
    "    label_list = []\n",
    "\n",
    "    for pregunta, label in zip(X,y):\n",
    "        bert_input = tokenizer.encode_plus(pregunta,\n",
    "                                           truncation = True,\n",
    "                                           max_length = max_len,\n",
    "                                           add_special_tokens = True,\n",
    "                                           return_token_type_ids = False,\n",
    "                                           padding='max_length',\n",
    "                                           return_attention_mask = False,\n",
    "                                           return_tensors='tf')\n",
    "\n",
    "        input_ids_list.append(tf.reshape(bert_input['input_ids'], (max_len)))\n",
    "        label_list.append(tf.squeeze([label], axis = -1))\n",
    "\n",
    "    return tf.data.Dataset.from_tensor_slices((input_ids_list, label_list))"
   ]
  },
  {
   "cell_type": "code",
   "execution_count": 22,
   "metadata": {
    "id": "O3rGsakGp9GK"
   },
   "outputs": [],
   "source": [
    "#Selecciono 32 tokens por pregunta como maximo para el modelo\n",
    "MAX_LEN = 32"
   ]
  },
  {
   "cell_type": "code",
   "execution_count": 37,
   "metadata": {
    "id": "cj0JnCuXt2jw"
   },
   "outputs": [],
   "source": [
    "#Creamos un dataset para train, validation y test set.\n",
    "train_dataset = encode_examples(X_train, y_train, MAX_LEN).batch(16)\n",
    "test_dataset = encode_examples(X_test, y_test, MAX_LEN).batch(1)"
   ]
  },
  {
   "cell_type": "code",
   "execution_count": 24,
   "metadata": {
    "colab": {
     "base_uri": "https://localhost:8080/",
     "height": 104
    },
    "id": "ShDIj_uNuY61",
    "outputId": "b8169daf-2d56-4542-bb51-f585b7920de6"
   },
   "outputs": [
    {
     "data": {
      "text/plain": [
       "<tf.Tensor: shape=(1, 32), dtype=int32, numpy=\n",
       "array([[    4,  1129,  7214,  1038,  2345,  1030, 12655,  1008,  1030,\n",
       "         2405, 30932,  4178, 10396,  1093,  1042,  1129, 15925,  1022,\n",
       "         1040, 20576, 30932,     5,     1,     1,     1,     1,     1,\n",
       "            1,     1,     1,     1,     1]], dtype=int32)>"
      ]
     },
     "execution_count": 24,
     "metadata": {
      "tags": []
     },
     "output_type": "execute_result"
    }
   ],
   "source": [
    "#Tomo un ejemplo del generador del test para ver su salida\n",
    "example = next(iter(test_dataset))\n",
    "example[0]"
   ]
  },
  {
   "cell_type": "code",
   "execution_count": 25,
   "metadata": {
    "colab": {
     "base_uri": "https://localhost:8080/",
     "height": 34
    },
    "id": "-6OWkv8j4D43",
    "outputId": "89680942-acb9-4a51-c079-9b86f5dc60a6"
   },
   "outputs": [
    {
     "data": {
      "text/plain": [
       "<tf.Tensor: shape=(1,), dtype=int32, numpy=array([342], dtype=int32)>"
      ]
     },
     "execution_count": 25,
     "metadata": {
      "tags": []
     },
     "output_type": "execute_result"
    }
   ],
   "source": [
    "example[1]"
   ]
  },
  {
   "cell_type": "markdown",
   "metadata": {
    "id": "aUCsD2JVv9OT"
   },
   "source": [
    "# 3. Training"
   ]
  },
  {
   "cell_type": "code",
   "execution_count": 38,
   "metadata": {
    "colab": {
     "base_uri": "https://localhost:8080/",
     "height": 124
    },
    "id": "4UlxQWff1ggd",
    "outputId": "5d5780ba-9b1e-4b16-f982-ac70861e1790"
   },
   "outputs": [
    {
     "name": "stderr",
     "output_type": "stream",
     "text": [
      "Some weights of the PyTorch model were not used when initializing the TF 2.0 model TFBertModel: ['cls.predictions.transform.LayerNorm.weight', 'cls.predictions.decoder.weight', 'cls.predictions.transform.dense.bias', 'cls.predictions.bias', 'cls.predictions.transform.dense.weight', 'cls.predictions.transform.LayerNorm.bias']\n",
      "- This IS expected if you are initializing TFBertModel from a PyTorch model trained on another task or with another architecture (e.g. initializing a TFBertForSequenceClassification model from a BertForPretraining model).\n",
      "- This IS NOT expected if you are initializing TFBertModel from a PyTorch model that you expect to be exactly identical (e.g. initializing a TFBertForSequenceClassification model from a BertForSequenceClassification model).\n",
      "All the weights of TFBertModel were initialized from the PyTorch model.\n",
      "If your task is similar to the task the model of the ckeckpoint was trained on, you can already use TFBertModel for predictions without further training.\n"
     ]
    }
   ],
   "source": [
    "#La librería transformers nos facilita la clase TFBertModel, que carga los pesos entrenados y nos devuelve los layers de tensorflow.\n",
    "bert = TFBertModel.from_pretrained(BERT_PRETRAINED_NAME,from_pt=True)"
   ]
  },
  {
   "cell_type": "code",
   "execution_count": 27,
   "metadata": {
    "colab": {
     "base_uri": "https://localhost:8080/",
     "height": 34
    },
    "id": "kqU2hKlt19PD",
    "outputId": "5f8b5f3d-0355-455c-e644-31e96e1e5253"
   },
   "outputs": [
    {
     "data": {
      "text/plain": [
       "(TensorShape([1, 32, 768]), TensorShape([1, 768]))"
      ]
     },
     "execution_count": 27,
     "metadata": {
      "tags": []
     },
     "output_type": "execute_result"
    }
   ],
   "source": [
    "#BERT espera 32 tokens int, y nos devuelve: (sacado de la documentación de huggingface)\n",
    "#last_hidden_state ->  Sequence of hidden-states at the output of the last layer of the model.\n",
    "#pooler_output -> Last layer hidden-state of the first token of the sequence (classification token) \n",
    "#                 further processed by a Linear layer and a Tanh activation function. \n",
    "#                 The Linear layer weights are trained from the next sentence prediction (classification) objective during pretraining.\n",
    "#                 This output is usually not a good summary of the semantic content of the input, \n",
    "#                 you’re often better with averaging or pooling the sequence of hidden-states for the whole input sequence.\n",
    "\n",
    "bert(example[0])[0].shape, bert(example[0])[1].shape"
   ]
  },
  {
   "cell_type": "markdown",
   "metadata": {
    "id": "Rx5JvstRqWQC"
   },
   "source": [
    "![im](https://miro.medium.com/max/2606/1*LwOHGvXADWzz5S9tYonNeg.png)"
   ]
  },
  {
   "cell_type": "code",
   "execution_count": 39,
   "metadata": {
    "id": "c8K9t9N-rqB4"
   },
   "outputs": [],
   "source": [
    "#Se le asigna un peso a cada clase, dependiendo de su cantidad de apariciones en el dataset\n",
    "#Esto ayuda a que el modelo preste mas atencion a las clases con pocos datos\n",
    "weights = compute_class_weight('balanced', \n",
    "                               np.unique(y_train), \n",
    "                               y_train)\n",
    "\n",
    "cw = dict(enumerate(weights))"
   ]
  },
  {
   "cell_type": "code",
   "execution_count": 40,
   "metadata": {
    "colab": {
     "base_uri": "https://localhost:8080/",
     "height": 34
    },
    "id": "QdeHWHQIBmMD",
    "outputId": "a91fc2c4-7a12-413e-aae9-ee4e48782b08"
   },
   "outputs": [
    {
     "data": {
      "text/plain": [
       "(51.40056818181818, 0.11602837061358506)"
      ]
     },
     "execution_count": 40,
     "metadata": {
      "tags": []
     },
     "output_type": "execute_result"
    }
   ],
   "source": [
    "#La clase 7 tiene menor ocurrencia, se le asigna un peso mayor\n",
    "cw[7], cw[1]"
   ]
  },
  {
   "cell_type": "code",
   "execution_count": 41,
   "metadata": {
    "id": "Sjreweouv-l1"
   },
   "outputs": [],
   "source": [
    "#Para clasificación, se utiliza el pooler output, es decir la salida del token [CLS]\n",
    "#Input -> Solo los index de los tokens (en teoría se debería tambien alimentar con un array \"attention mask\")\n",
    "#Bert pre entrenado -> Tomamos el vector resultante de [CLS] (pooler_output)\n",
    "#Dropout -> Regularización\n",
    "#Output -> Una capa densa con una cantidad de neuronas igual a la cantidad de clases\n",
    "input_layer = keras.layers.Input(shape = (MAX_LEN,), dtype = tf.int32)\n",
    "hidden_states, pooler_output = bert(input_layer)\n",
    "dropout = keras.layers.Dropout(0.35)(pooler_output)\n",
    "output = keras.layers.Dense(CLASSES, activation='softmax')(dropout)\n",
    "\n",
    "model = keras.models.Model(inputs = input_layer,\n",
    "                           outputs = output)\n",
    "\n",
    "#Segun el paper, el mejor parametro para learning_rate cuando se hace fine tuning es 2e-5\n",
    "#Sparse Categorical crossentropy -> Para multiples clases, espera que el target sea un int\n",
    "#Metrica accuracy\n",
    "model.compile(keras.optimizers.Adam(learning_rate = 2e-5),\n",
    "              loss = 'sparse_categorical_crossentropy', \n",
    "              metrics = ['accuracy'])"
   ]
  },
  {
   "cell_type": "code",
   "execution_count": 42,
   "metadata": {
    "colab": {
     "base_uri": "https://localhost:8080/",
     "height": 295
    },
    "id": "ljlAgX04wS_Q",
    "outputId": "b64741c7-316b-430e-84d6-cf333339bf16"
   },
   "outputs": [
    {
     "name": "stdout",
     "output_type": "stream",
     "text": [
      "Model: \"functional_3\"\n",
      "_________________________________________________________________\n",
      "Layer (type)                 Output Shape              Param #   \n",
      "=================================================================\n",
      "input_2 (InputLayer)         [(None, 32)]              0         \n",
      "_________________________________________________________________\n",
      "tf_bert_model_1 (TFBertModel ((None, 32, 768), (None,  109850880 \n",
      "_________________________________________________________________\n",
      "dropout_149 (Dropout)        (None, 768)               0         \n",
      "_________________________________________________________________\n",
      "dense_1 (Dense)              (None, 352)               270688    \n",
      "=================================================================\n",
      "Total params: 110,121,568\n",
      "Trainable params: 110,121,568\n",
      "Non-trainable params: 0\n",
      "_________________________________________________________________\n"
     ]
    }
   ],
   "source": [
    "model.summary()"
   ]
  },
  {
   "cell_type": "code",
   "execution_count": 43,
   "metadata": {
    "colab": {
     "base_uri": "https://localhost:8080/",
     "height": 1000
    },
    "id": "oVH0Zt044OUD",
    "outputId": "b01c49d0-5f5c-43e9-f73b-b7b41c605cc2"
   },
   "outputs": [
    {
     "name": "stdout",
     "output_type": "stream",
     "text": [
      "Epoch 1/100\n",
      "1131/1131 [==============================] - 149s 132ms/step - loss: 6.0200 - accuracy: 0.0032 - val_loss: 5.8955 - val_accuracy: 4.9727e-04\n",
      "Epoch 2/100\n",
      "1131/1131 [==============================] - 147s 130ms/step - loss: 5.9307 - accuracy: 0.0015 - val_loss: 5.7907 - val_accuracy: 4.9727e-04\n",
      "Epoch 3/100\n",
      "1131/1131 [==============================] - 146s 129ms/step - loss: 5.7007 - accuracy: 0.0049 - val_loss: 5.4032 - val_accuracy: 0.0065\n",
      "Epoch 4/100\n",
      "1131/1131 [==============================] - 145s 128ms/step - loss: 5.3541 - accuracy: 0.0101 - val_loss: 5.0748 - val_accuracy: 0.0139\n",
      "Epoch 5/100\n",
      "1131/1131 [==============================] - 143s 127ms/step - loss: 4.9788 - accuracy: 0.0217 - val_loss: 4.6041 - val_accuracy: 0.0353\n",
      "Epoch 6/100\n",
      "1131/1131 [==============================] - 144s 127ms/step - loss: 4.3105 - accuracy: 0.0753 - val_loss: 3.7778 - val_accuracy: 0.1845\n",
      "Epoch 7/100\n",
      "1131/1131 [==============================] - 143s 127ms/step - loss: 3.2194 - accuracy: 0.2285 - val_loss: 2.8166 - val_accuracy: 0.3923\n",
      "Epoch 8/100\n",
      "1131/1131 [==============================] - 143s 126ms/step - loss: 2.0923 - accuracy: 0.4371 - val_loss: 2.0709 - val_accuracy: 0.5341\n",
      "Epoch 9/100\n",
      "1131/1131 [==============================] - 144s 127ms/step - loss: 1.3545 - accuracy: 0.5964 - val_loss: 1.5169 - val_accuracy: 0.6360\n",
      "Epoch 10/100\n",
      "1131/1131 [==============================] - 143s 127ms/step - loss: 0.8935 - accuracy: 0.7152 - val_loss: 1.2631 - val_accuracy: 0.6967\n",
      "Epoch 11/100\n",
      "1131/1131 [==============================] - 144s 127ms/step - loss: 0.6258 - accuracy: 0.7981 - val_loss: 1.0779 - val_accuracy: 0.7360\n",
      "Epoch 12/100\n",
      "1131/1131 [==============================] - 144s 127ms/step - loss: 0.4217 - accuracy: 0.8538 - val_loss: 0.9030 - val_accuracy: 0.7747\n",
      "Epoch 13/100\n",
      "1131/1131 [==============================] - 144s 128ms/step - loss: 0.2836 - accuracy: 0.8945 - val_loss: 0.8397 - val_accuracy: 0.7897\n",
      "Epoch 14/100\n",
      "1131/1131 [==============================] - 146s 129ms/step - loss: 0.2214 - accuracy: 0.9136 - val_loss: 0.8318 - val_accuracy: 0.7936\n",
      "Epoch 15/100\n",
      "1131/1131 [==============================] - 146s 129ms/step - loss: 0.1437 - accuracy: 0.9366 - val_loss: 0.7815 - val_accuracy: 0.8115\n",
      "Epoch 16/100\n",
      "1131/1131 [==============================] - 146s 129ms/step - loss: 0.1357 - accuracy: 0.9448 - val_loss: 0.7541 - val_accuracy: 0.8210\n",
      "Epoch 17/100\n",
      "1131/1131 [==============================] - 145s 129ms/step - loss: 0.1178 - accuracy: 0.9534 - val_loss: 0.7920 - val_accuracy: 0.8165\n",
      "Epoch 18/100\n",
      "1131/1131 [==============================] - 145s 128ms/step - loss: 0.0989 - accuracy: 0.9634 - val_loss: 0.7356 - val_accuracy: 0.8339\n",
      "Epoch 19/100\n",
      "1131/1131 [==============================] - 144s 127ms/step - loss: 0.0721 - accuracy: 0.9686 - val_loss: 0.7742 - val_accuracy: 0.8215\n",
      "Epoch 20/100\n",
      "1131/1131 [==============================] - 144s 127ms/step - loss: 0.0816 - accuracy: 0.9656 - val_loss: 0.7492 - val_accuracy: 0.8414\n",
      "Epoch 21/100\n",
      "1131/1131 [==============================] - 144s 127ms/step - loss: 0.0763 - accuracy: 0.9688 - val_loss: 0.8019 - val_accuracy: 0.8240\n",
      "Epoch 22/100\n",
      "1131/1131 [==============================] - 144s 127ms/step - loss: 0.0856 - accuracy: 0.9699 - val_loss: 0.7888 - val_accuracy: 0.8265\n",
      "Epoch 23/100\n",
      "1131/1131 [==============================] - 146s 129ms/step - loss: 0.0695 - accuracy: 0.9737 - val_loss: 0.7569 - val_accuracy: 0.8404\n",
      "Epoch 24/100\n",
      "1131/1131 [==============================] - 146s 129ms/step - loss: 0.0586 - accuracy: 0.9751 - val_loss: 0.7374 - val_accuracy: 0.8414\n",
      "Epoch 25/100\n",
      "1131/1131 [==============================] - 144s 128ms/step - loss: 0.0754 - accuracy: 0.9693 - val_loss: 0.7558 - val_accuracy: 0.8454\n",
      "Epoch 26/100\n",
      "1131/1131 [==============================] - 144s 127ms/step - loss: 0.0443 - accuracy: 0.9821 - val_loss: 0.7551 - val_accuracy: 0.8478\n",
      "Epoch 27/100\n",
      "1131/1131 [==============================] - 147s 130ms/step - loss: 0.0572 - accuracy: 0.9737 - val_loss: 0.7813 - val_accuracy: 0.8434\n",
      "Epoch 28/100\n",
      "1131/1131 [==============================] - 148s 131ms/step - loss: 0.0587 - accuracy: 0.9779 - val_loss: 0.8069 - val_accuracy: 0.8419\n",
      "Epoch 29/100\n",
      "1131/1131 [==============================] - 148s 131ms/step - loss: 0.0561 - accuracy: 0.9808 - val_loss: 0.8466 - val_accuracy: 0.8334\n",
      "Epoch 30/100\n",
      "1131/1131 [==============================] - 148s 131ms/step - loss: 0.0539 - accuracy: 0.9740 - val_loss: 0.7561 - val_accuracy: 0.8503\n",
      "Epoch 31/100\n",
      "1131/1131 [==============================] - 148s 131ms/step - loss: 0.0436 - accuracy: 0.9828 - val_loss: 0.7451 - val_accuracy: 0.8528\n",
      "Epoch 32/100\n",
      "1131/1131 [==============================] - 147s 130ms/step - loss: 0.0189 - accuracy: 0.9903 - val_loss: 0.7913 - val_accuracy: 0.8593\n",
      "Epoch 33/100\n",
      "1131/1131 [==============================] - 148s 131ms/step - loss: 0.0659 - accuracy: 0.9788 - val_loss: 0.8401 - val_accuracy: 0.8429\n",
      "Epoch 34/100\n",
      "1131/1131 [==============================] - 148s 131ms/step - loss: 0.0713 - accuracy: 0.9766 - val_loss: 0.8121 - val_accuracy: 0.8384\n",
      "Epoch 35/100\n",
      "1131/1131 [==============================] - 148s 131ms/step - loss: 0.0432 - accuracy: 0.9846 - val_loss: 0.7679 - val_accuracy: 0.8473\n",
      "Epoch 36/100\n",
      "1131/1131 [==============================] - 148s 131ms/step - loss: 0.0560 - accuracy: 0.9810 - val_loss: 0.7810 - val_accuracy: 0.8568\n",
      "Epoch 37/100\n",
      "1131/1131 [==============================] - 148s 131ms/step - loss: 0.0478 - accuracy: 0.9816 - val_loss: 0.8387 - val_accuracy: 0.8458\n"
     ]
    }
   ],
   "source": [
    "#Callback para detener el entrenamiento una vez que han transcurrido 5 epochs sin mejorar el val_accuracy\n",
    "callback = keras.callbacks.EarlyStopping(monitor = 'val_accuracy', \n",
    "                                         patience = 5)\n",
    "\n",
    "#Entrenamos el modelo\n",
    "history = model.fit(train_dataset,\n",
    "                    validation_data = test_dataset,\n",
    "                    epochs = 100,\n",
    "                    callbacks = [callback],\n",
    "                    class_weight = cw)"
   ]
  },
  {
   "cell_type": "code",
   "execution_count": 44,
   "metadata": {
    "colab": {
     "base_uri": "https://localhost:8080/",
     "height": 350
    },
    "id": "cx6t1VOVOaWb",
    "outputId": "ff993246-ace3-43e5-8084-6cc30b114e79"
   },
   "outputs": [
    {
     "data": {
      "image/png": "[encoded data removed]",
      "text/plain": [
       "<Figure size 1080x360 with 2 Axes>"
      ]
     },
     "metadata": {
      "needs_background": "light",
      "tags": []
     },
     "output_type": "display_data"
    }
   ],
   "source": [
    "#Plots de accuracy y loss\n",
    "f, ax = plt.subplots(ncols = 2)\n",
    "\n",
    "ax[0].plot(history.history['val_accuracy'], label = 'Validation')\n",
    "ax[0].plot(history.history['accuracy'], label = 'Train')\n",
    "ax[0].set_title('Accuracy')\n",
    "ax[0].set_xlabel('Epoch')\n",
    "\n",
    "ax[1].plot(history.history['val_loss'], label = 'Validation')\n",
    "ax[1].plot(history.history['loss'], label = 'Train')\n",
    "ax[1].set_title('Loss')\n",
    "ax[1].set_xlabel('Epoch')\n",
    "\n",
    "ax[0].legend()\n",
    "ax[1].legend()\n",
    "plt.show()"
   ]
  },
  {
   "cell_type": "markdown",
   "metadata": {
    "id": "rO27G8uAFMhI"
   },
   "source": [
    "# 4. Evaluation"
   ]
  },
  {
   "cell_type": "code",
   "execution_count": 46,
   "metadata": {
    "colab": {
     "base_uri": "https://localhost:8080/",
     "height": 104
    },
    "id": "ZICZuJH3NBI5",
    "outputId": "10e1b0d7-d3c6-4754-bfb9-66f2cbdfb4be"
   },
   "outputs": [
    {
     "name": "stdout",
     "output_type": "stream",
     "text": [
      "tf.Tensor(\n",
      "[[   4 1084 1129 6031 1040 4837 1110 2313 8463 1153 5714    5    1    1\n",
      "     1    1    1    1    1    1    1    1    1    1    1    1    1    1\n",
      "     1    1    1    1]], shape=(1, 32), dtype=int32)\n",
      "El modelo predice que pertenece a la clase: 1\n"
     ]
    }
   ],
   "source": [
    "#Testeo modelo con una pregunta.\n",
    "pregunta = 'no me llega el mensaje para poder recuperar mi clave'\n",
    "testeo = tokenizer.encode_plus(pregunta,\n",
    "                               max_length=32,\n",
    "                               add_special_tokens=True,\n",
    "                               return_token_type_ids=False,\n",
    "                               padding='max_length',\n",
    "                               return_attention_mask=True,\n",
    "                               return_tensors='tf')['input_ids']\n",
    "print(testeo)\n",
    "print('El modelo predice que pertenece a la clase:', tf.argmax(model(testeo), axis = 1).numpy()[0])"
   ]
  },
  {
   "cell_type": "code",
   "execution_count": 47,
   "metadata": {
    "colab": {
     "base_uri": "https://localhost:8080/",
     "height": 206
    },
    "id": "RHcjXSuhNeKr",
    "outputId": "c5c95206-9db4-43a4-940e-0b6e3777d022"
   },
   "outputs": [
    {
     "data": {
      "text/html": [
       "<div>\n",
       "<style scoped>\n",
       "    .dataframe tbody tr th:only-of-type {\n",
       "        vertical-align: middle;\n",
       "    }\n",
       "\n",
       "    .dataframe tbody tr th {\n",
       "        vertical-align: top;\n",
       "    }\n",
       "\n",
       "    .dataframe thead th {\n",
       "        text-align: right;\n",
       "    }\n",
       "</style>\n",
       "<table border=\"1\" class=\"dataframe\">\n",
       "  <thead>\n",
       "    <tr style=\"text-align: right;\">\n",
       "      <th></th>\n",
       "      <th>Pregunta</th>\n",
       "      <th>Intencion</th>\n",
       "    </tr>\n",
       "  </thead>\n",
       "  <tbody>\n",
       "    <tr>\n",
       "      <th>7</th>\n",
       "      <td>pasar preguntar seguridad</td>\n",
       "      <td>1</td>\n",
       "    </tr>\n",
       "    <tr>\n",
       "      <th>8</th>\n",
       "      <td>olvide mi contraseña de hombamnkin</td>\n",
       "      <td>1</td>\n",
       "    </tr>\n",
       "    <tr>\n",
       "      <th>10</th>\n",
       "      <td>intentar poder obtener clave</td>\n",
       "      <td>1</td>\n",
       "    </tr>\n",
       "    <tr>\n",
       "      <th>58</th>\n",
       "      <td>me llego mens q tengo q renovar mis claves y n...</td>\n",
       "      <td>1</td>\n",
       "    </tr>\n",
       "    <tr>\n",
       "      <th>146</th>\n",
       "      <td>me.olvide la contraseña de mi cuenta</td>\n",
       "      <td>1</td>\n",
       "    </tr>\n",
       "  </tbody>\n",
       "</table>\n",
       "</div>"
      ],
      "text/plain": [
       "                                              Pregunta  Intencion\n",
       "7                            pasar preguntar seguridad          1\n",
       "8                   olvide mi contraseña de hombamnkin          1\n",
       "10                        intentar poder obtener clave          1\n",
       "58   me llego mens q tengo q renovar mis claves y n...          1\n",
       "146               me.olvide la contraseña de mi cuenta          1"
      ]
     },
     "execution_count": 47,
     "metadata": {
      "tags": []
     },
     "output_type": "execute_result"
    }
   ],
   "source": [
    "#¿La predicción es correcta?\n",
    "train[train['Intencion']==1].head(5)"
   ]
  },
  {
   "cell_type": "code",
   "execution_count": 48,
   "metadata": {
    "colab": {
     "base_uri": "https://localhost:8080/",
     "height": 104
    },
    "id": "fEEVerHqqiIx",
    "outputId": "558af4e3-95c5-471b-e668-771c743cc91d"
   },
   "outputs": [
    {
     "name": "stdout",
     "output_type": "stream",
     "text": [
      "Test example n: 0\n",
      "Test example n: 1500\n",
      "Test example n: 3000\n",
      "Test example n: 4500\n",
      "Test example n: 6000\n"
     ]
    }
   ],
   "source": [
    "#Predecimos las categorias del archivo de test para subirlo a la página de la competencia.\n",
    "pred = []\n",
    "preguntas = []\n",
    "\n",
    "for i, pregunta in enumerate(test['Pregunta']):\n",
    "    bert_input = tokenizer.encode_plus(pregunta,\n",
    "                                     truncation = True,\n",
    "                                     max_length = MAX_LEN,\n",
    "                                     add_special_tokens = True,\n",
    "                                     return_token_type_ids = False,\n",
    "                                     padding='max_length',\n",
    "                                     return_attention_mask = False,\n",
    "                                     return_tensors='tf')\n",
    "\n",
    "    input = bert_input['input_ids']\n",
    "    prediction = model(input)\n",
    "    pred.append(tf.argmax(prediction, axis = 1).numpy()[0])\n",
    "\n",
    "    if i % 1500 == 0:\n",
    "        print('Test example n:',i)\n",
    "\n",
    "submission = pd.DataFrame()\n",
    "submission['categoria'] = pd.Series(label_encoder.inverse_transform(pred)).map(lambda x: x.split('_')[1])\n",
    "submission.to_csv('bert_no_class_weight.csv', header = False)"
   ]
  }
 ],
 "metadata": {
  "accelerator": "GPU",
  "colab": {
   "collapsed_sections": [],
   "name": "Santander - TensorFlow - ClassWeight.ipynb",
   "provenance": []
  },
  "kernelspec": {
   "display_name": "Python 3",
   "language": "python",
   "name": "python3"
  },
  "language_info": {
   "codemirror_mode": {
    "name": "ipython",
    "version": 3
   },
   "file_extension": ".py",
   "mimetype": "text/x-python",
   "name": "python",
   "nbconvert_exporter": "python",
   "pygments_lexer": "ipython3",
   "version": "3.7.6"
  }
 },
 "nbformat": 4,
 "nbformat_minor": 1
}
