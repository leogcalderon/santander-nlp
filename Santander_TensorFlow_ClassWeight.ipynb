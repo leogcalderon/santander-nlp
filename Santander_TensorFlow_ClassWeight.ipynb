{
 "cells": [
  {
   "cell_type": "markdown",
   "metadata": {
    "id": "ywh3dHZ5FByx"
   },
   "source": [
    "# 0. Imports"
   ]
  },
  {
   "cell_type": "code",
   "execution_count": null,
   "metadata": {
    "id": "ZfYG0wKKquEK"
   },
   "outputs": [],
   "source": [
    "!pip install transformers"
   ]
  },
  {
   "cell_type": "code",
   "execution_count": 2,
   "metadata": {
    "id": "BJEPppfarG_Y"
   },
   "outputs": [],
   "source": [
    "import pandas as pd\n",
    "import tensorflow as tf\n",
    "import matplotlib.pyplot as plt\n",
    "import seaborn as sns\n",
    "import numpy as np\n",
    "from tensorflow import keras\n",
    "import tensorflow as tf\n",
    "from sklearn.model_selection import train_test_split\n",
    "from sklearn.preprocessing import LabelEncoder\n",
    "from transformers import BertTokenizer, TFBertModel\n",
    "from sklearn.utils.class_weight import compute_class_weight\n",
    "from sklearn.metrics import accuracy_score, balanced_accuracy_score, confusion_matrix\n",
    "\n",
    "plt.rcParams['figure.figsize'] = (15,5)"
   ]
  },
  {
   "cell_type": "markdown",
   "metadata": {
    "id": "KnYmJ8F0rdsI"
   },
   "source": [
    "# 1. Data"
   ]
  },
  {
   "cell_type": "code",
   "execution_count": 5,
   "metadata": {
    "id": "gqNyEvOLrU-P"
   },
   "outputs": [],
   "source": [
    "#Leemos Datasets\n",
    "train = pd.read_csv('/content/drive/My Drive/train.csv', sep = '|')\n",
    "test = pd.read_csv('/content/drive/My Drive/test_santander.csv')\n",
    "\n",
    "#String de categorias -> Int\n",
    "label_encoder = LabelEncoder().fit(train['Intencion'])\n",
    "train.loc[:,'Intencion'] = label_encoder.transform(train['Intencion'])\n",
    "\n",
    "#Split train/test sets\n",
    "X_train, X_test, y_train, y_test = train_test_split(train['Pregunta'],\n",
    "                                                    train['Intencion'], \n",
    "                                                    test_size = 0.1, \n",
    "                                                    random_state = 1)"
   ]
  },
  {
   "cell_type": "code",
   "execution_count": 6,
   "metadata": {
    "colab": {
     "base_uri": "https://localhost:8080/",
     "height": 35
    },
    "id": "LRGVPTy8xRJi",
    "outputId": "2eb1d435-c0b8-4f24-ff4c-046671a14a6d"
   },
   "outputs": [
    {
     "data": {
      "text/plain": [
       "((18093,), (2011,))"
      ]
     },
     "execution_count": 6,
     "metadata": {
      "tags": []
     },
     "output_type": "execute_result"
    }
   ],
   "source": [
    "X_train.shape, X_test.shape"
   ]
  },
  {
   "cell_type": "code",
   "execution_count": 7,
   "metadata": {
    "colab": {
     "base_uri": "https://localhost:8080/",
     "height": 35
    },
    "id": "EBIq3g0Rrxlm",
    "outputId": "4cfc095f-130b-4483-bb05-331560992735"
   },
   "outputs": [
    {
     "data": {
      "text/plain": [
       "('me puedo dar de alta en club la nacion desde acá?', 194)"
      ]
     },
     "execution_count": 7,
     "metadata": {
      "tags": []
     },
     "output_type": "execute_result"
    }
   ],
   "source": [
    "np.array(X_train)[0], np.array(y_train)[0]"
   ]
  },
  {
   "cell_type": "code",
   "execution_count": 8,
   "metadata": {
    "colab": {
     "base_uri": "https://localhost:8080/",
     "height": 35
    },
    "id": "uSNI9cFfoP2D",
    "outputId": "307a5fe9-b2c1-4aa3-913d-97edc4f09320"
   },
   "outputs": [
    {
     "name": "stdout",
     "output_type": "stream",
     "text": [
      "Pregunta mas larga: 43\n"
     ]
    }
   ],
   "source": [
    "print('Pregunta mas larga:',max([len(x.split(' ')) for x in X_train]))"
   ]
  },
  {
   "cell_type": "code",
   "execution_count": 9,
   "metadata": {
    "colab": {
     "base_uri": "https://localhost:8080/",
     "height": 35
    },
    "id": "yMJHct7tqtd9",
    "outputId": "e691b0cf-4aff-4d2f-eda5-8fe3b4ba6744"
   },
   "outputs": [
    {
     "data": {
      "text/plain": [
       "352"
      ]
     },
     "execution_count": 9,
     "metadata": {
      "tags": []
     },
     "output_type": "execute_result"
    }
   ],
   "source": [
    "#Numero de categorias presentes\n",
    "CLASSES = y_train.nunique()\n",
    "CLASSES"
   ]
  },
  {
   "cell_type": "code",
   "execution_count": null,
   "metadata": {
    "colab": {
     "base_uri": "https://localhost:8080/",
     "height": 320
    },
    "id": "JxuYYtHJofCj",
    "outputId": "fcbc9c3e-a722-47f3-d29b-cabc991cb3cd"
   },
   "outputs": [
    {
     "data": {
      "image/png": "[encoded data removed]",
      "text/plain": [
       "<Figure size 1080x360 with 1 Axes>"
      ]
     },
     "metadata": {
      "needs_background": "light",
      "tags": []
     },
     "output_type": "display_data"
    }
   ],
   "source": [
    "#Histograma de las longitudes de las pregunas\n",
    "plt.hist([len(x.split(' ')) for x in X_train], bins = 'auto')\n",
    "plt.show()"
   ]
  },
  {
   "cell_type": "markdown",
   "metadata": {
    "id": "4ZeuInzrwABF"
   },
   "source": [
    "# 2. Create dataset"
   ]
  },
  {
   "cell_type": "code",
   "execution_count": 10,
   "metadata": {
    "colab": {
     "base_uri": "https://localhost:8080/",
     "height": 217,
     "referenced_widgets": [
      "62cb3faa6f934518ae7e5c22e2de53d2",
      "6ec5ebd4887141ae976c2e2963a1a596",
      "7162c29d00a34b179b53e92fb4de7195",
      "c03f9742f4c14cf494c79a2cdfe27ea9",
      "54f12d678c3f45d5bb8eecdcd627ddeb",
      "55f2e21d9ef64727855b968ffa525d2b",
      "de905df2dd4b45eea23c0cf6129eec2f",
      "304d1f7e6c1a41a980c8dec2e7538072",
      "1798f0888f0a495aa0f90bf1a4e5873c",
      "ece91749ee4d47edb77125134f352200",
      "23257ca75b3a47d9ab9ec89b0fe462ce",
      "96cdb6d43ec64dd183a4b842c7320ae3",
      "a9ccb04bab8c4758b809b927ac97bb6b",
      "b1286810c76a403eb1271095e36ad488",
      "6c628a3417fd43638d1b9940f77bd29f",
      "3da1a54fc19e4ea5acbdac3503761997",
      "f0fcd559ea3a4e89af90394009080fd3",
      "08f6934a1b7e4ce6a41648df03d5b928",
      "2edc1ecd523e4a748e0b0110b7008136",
      "fc4470a1ad9b4f008e1d329b5a8b7966",
      "04b29aa3c7a04f3195420668982e07da",
      "508d69af97e04f889727f4ce411dd0aa",
      "4a37067c4b78459c8a34d6722eec9d9f",
      "cecbfde3048d4ce0b1156d76ec526d43",
      "108a456cc2f5439f97c519c940cbbe30",
      "3d3a67f0acd445b8941af8d919c03b40",
      "4af75c6434dc4698b8740194c71c0755",
      "8be04f0e3145494888abb70e59cc800e",
      "37391191d6214592a65f31205646ca79",
      "3e629c0de5c34e3a9520fefde5c4f1d9",
      "4880f3c26b0145e0ac77a0ae4ad6ca4a",
      "f00b5b4da0994a0b864cef0a4377a2e6"
     ]
    },
    "id": "z34qPtxqrlQQ",
    "outputId": "665969a2-f163-41d5-a495-36c04b8c2bb0"
   },
   "outputs": [
    {
     "data": {
      "application/vnd.jupyter.widget-view+json": {
       "model_id": "62cb3faa6f934518ae7e5c22e2de53d2",
       "version_major": 2,
       "version_minor": 0
      },
      "text/plain": [
       "HBox(children=(FloatProgress(value=0.0, description='Downloading', max=242120.0, style=ProgressStyle(descripti…"
      ]
     },
     "metadata": {
      "tags": []
     },
     "output_type": "display_data"
    },
    {
     "name": "stdout",
     "output_type": "stream",
     "text": [
      "\n"
     ]
    },
    {
     "data": {
      "application/vnd.jupyter.widget-view+json": {
       "model_id": "1798f0888f0a495aa0f90bf1a4e5873c",
       "version_major": 2,
       "version_minor": 0
      },
      "text/plain": [
       "HBox(children=(FloatProgress(value=0.0, description='Downloading', max=2.0, style=ProgressStyle(description_wi…"
      ]
     },
     "metadata": {
      "tags": []
     },
     "output_type": "display_data"
    },
    {
     "name": "stdout",
     "output_type": "stream",
     "text": [
      "\n"
     ]
    },
    {
     "data": {
      "application/vnd.jupyter.widget-view+json": {
       "model_id": "f0fcd559ea3a4e89af90394009080fd3",
       "version_major": 2,
       "version_minor": 0
      },
      "text/plain": [
       "HBox(children=(FloatProgress(value=0.0, description='Downloading', max=112.0, style=ProgressStyle(description_…"
      ]
     },
     "metadata": {
      "tags": []
     },
     "output_type": "display_data"
    },
    {
     "name": "stdout",
     "output_type": "stream",
     "text": [
      "\n"
     ]
    },
    {
     "data": {
      "application/vnd.jupyter.widget-view+json": {
       "model_id": "108a456cc2f5439f97c519c940cbbe30",
       "version_major": 2,
       "version_minor": 0
      },
      "text/plain": [
       "HBox(children=(FloatProgress(value=0.0, description='Downloading', max=43.0, style=ProgressStyle(description_w…"
      ]
     },
     "metadata": {
      "tags": []
     },
     "output_type": "display_data"
    },
    {
     "name": "stdout",
     "output_type": "stream",
     "text": [
      "\n"
     ]
    }
   ],
   "source": [
    "#Cargamos los pesos y vocabulario del modelo BETO (BERT entrenado con textos en español)\n",
    "#La librería transformers nos facilita clases para tokenizar los inputs segun lo requiera cada modelo\n",
    "#En este caso usaré BertTokenizer\n",
    "BERT_PRETRAINED_NAME = 'dccuchile/bert-base-spanish-wwm-cased'\n",
    "tokenizer = BertTokenizer.from_pretrained(BERT_PRETRAINED_NAME)"
   ]
  },
  {
   "cell_type": "markdown",
   "metadata": {
    "id": "IgTb_AevD8Tq"
   },
   "source": [
    "El modelo BERT debe ser alimentado con un formato especial. Al inicio de la oración, debe apendarse un token especial [CLS], un token especial al final de la misma [SEP] y tokens para el padding [PAD]. BERT fue entrenado con subwords, la clase BertTokenizer nos ayuda con esta tarea, al igual que todo el preprocesado neceesario para dejar listo los inputs del modelo."
   ]
  },
  {
   "cell_type": "code",
   "execution_count": 11,
   "metadata": {
    "colab": {
     "base_uri": "https://localhost:8080/",
     "height": 234
    },
    "id": "hf-Vo61MD7Ho",
    "outputId": "f8da1665-f86b-411c-daab-2558c4a63a27"
   },
   "outputs": [
    {
     "name": "stdout",
     "output_type": "stream",
     "text": [
      "Original: Hola, quisiera hacer un deposito con mi tarjeta de crédito, cuales son los pasos \n",
      "\n",
      "Tokenizado: ['Hola', ',', 'quisiera', 'hacer', 'un', 'deposit', '##o', 'con', 'mi', 'tarjeta', 'de', 'crédito', ',', 'cuales', 'son', 'los', 'pasos'] \n",
      "\n",
      "Full tokenized ['[CLS]', 'Hola', ',', 'quisiera', 'hacer', 'un', 'deposit', '##o', 'con', 'mi', 'tarjeta', 'de', 'crédito', ',', 'cuales', 'son', 'los', 'pasos', '[SEP]', '[PAD]', '[PAD]', '[PAD]', '[PAD]', '[PAD]', '[PAD]', '[PAD]', '[PAD]', '[PAD]', '[PAD]', '[PAD]', '[PAD]', '[PAD]'] \n",
      "\n",
      "Full ids: tensor([[    4,  1894,  1017,  6241,  1409,  1049, 17756, 30933,  1051,  1153,\n",
      "          7929,  1008,  4792,  1017,  3556,  1404,  1065,  8601,     5,     1,\n",
      "             1,     1,     1,     1,     1,     1,     1,     1,     1,     1,\n",
      "             1,     1]]) \n",
      "\n"
     ]
    }
   ],
   "source": [
    "ejemplo = 'Hola, quisiera hacer un deposito con mi tarjeta de crédito, cuales son los pasos'\n",
    "tokens = tokenizer.tokenize(ejemplo)\n",
    "ids = tokenizer.convert_tokens_to_ids(tokens)\n",
    "full = tokenizer.encode_plus(ejemplo,\n",
    "                             max_length=32,\n",
    "                             add_special_tokens=True,\n",
    "                             return_token_type_ids=False,\n",
    "                             padding='max_length',\n",
    "                             return_attention_mask=False,\n",
    "                             return_tensors='pt')\n",
    "\n",
    "print('Original:',ejemplo,'\\n')\n",
    "print('Tokenizado:',tokens,'\\n')\n",
    "print('Full tokenized', tokenizer.convert_ids_to_tokens(full['input_ids'].numpy()[0]),'\\n')\n",
    "print('Full ids:',full['input_ids'],'\\n')"
   ]
  },
  {
   "cell_type": "code",
   "execution_count": 12,
   "metadata": {
    "id": "OPYfc5BLr9JF"
   },
   "outputs": [],
   "source": [
    "#Creo una funcion para obtener un objeto dataset con el encoding necesario para el modelo.\n",
    "\n",
    "def encode_examples(X, y, max_len):\n",
    "  '''\n",
    "  Devuelve un generador (tf.data.Dataset). \n",
    "  Los inputs son tokenizados -> convertidos a su index -> agrega tokens especiales [CLS] [PAD] [SEP]\n",
    "  Args:\n",
    "      X = (pd.DataFrame/pd.Series/np.array/list) - Preguntas\n",
    "      y = (pd.DataFrame/pd.Series/np.array/list) - Categorias\n",
    "  '''\n",
    "    input_ids_list = []\n",
    "    label_list = []\n",
    "    \n",
    "    for pregunta, label in zip(X,y):\n",
    "        bert_input = tokenizer.encode_plus(pregunta,\n",
    "                                           truncation = True,\n",
    "                                           max_length = max_len,\n",
    "                                           add_special_tokens = True,\n",
    "                                           return_token_type_ids = False,\n",
    "                                           padding='max_length',\n",
    "                                           return_attention_mask = False,\n",
    "                                           return_tensors='tf')\n",
    "\n",
    "        input_ids_list.append(tf.reshape(bert_input['input_ids'], (max_len)))\n",
    "        label_list.append(tf.squeeze([label], axis = -1))\n",
    "    \n",
    "    return tf.data.Dataset.from_tensor_slices((input_ids_list, label_list))"
   ]
  },
  {
   "cell_type": "code",
   "execution_count": 13,
   "metadata": {
    "id": "O3rGsakGp9GK"
   },
   "outputs": [],
   "source": [
    "#Selecciono 32 tokens por pregunta como maximo para el modelo\n",
    "MAX_LEN = 32"
   ]
  },
  {
   "cell_type": "code",
   "execution_count": 15,
   "metadata": {
    "id": "cj0JnCuXt2jw"
   },
   "outputs": [],
   "source": [
    "#Creamos un dataset para train, validation y test set.\n",
    "train_dataset = encode_examples(X_train, y_train, MAX_LEN).batch(16)\n",
    "test_dataset = encode_examples(X_test, y_test, MAX_LEN).batch(1)"
   ]
  },
  {
   "cell_type": "code",
   "execution_count": null,
   "metadata": {
    "colab": {
     "base_uri": "https://localhost:8080/",
     "height": 107
    },
    "id": "ShDIj_uNuY61",
    "outputId": "eaac8fc5-7670-40f1-f89a-d1b2fff1bd05"
   },
   "outputs": [
    {
     "data": {
      "text/plain": [
       "<tf.Tensor: shape=(1, 32), dtype=int32, numpy=\n",
       "array([[    4,  1129,  7214,  1038,  2345,  1030, 12655,  1008,  1030,\n",
       "         2405, 30932,  4178, 10396,  1093,  1042,  1129, 15925,  1022,\n",
       "         1040, 20576, 30932,     5,     1,     1,     1,     1,     1,\n",
       "            1,     1,     1,     1,     1]], dtype=int32)>"
      ]
     },
     "execution_count": 12,
     "metadata": {
      "tags": []
     },
     "output_type": "execute_result"
    }
   ],
   "source": [
    "#Tomo un ejemplo del generador del test para ver su salida\n",
    "example = next(iter(test_dataset))\n",
    "example[0]"
   ]
  },
  {
   "cell_type": "code",
   "execution_count": null,
   "metadata": {
    "colab": {
     "base_uri": "https://localhost:8080/",
     "height": 35
    },
    "id": "-6OWkv8j4D43",
    "outputId": "37a3b875-0ae8-457f-ed6e-9471c78c4282"
   },
   "outputs": [
    {
     "data": {
      "text/plain": [
       "<tf.Tensor: shape=(1,), dtype=int32, numpy=array([342], dtype=int32)>"
      ]
     },
     "execution_count": 13,
     "metadata": {
      "tags": []
     },
     "output_type": "execute_result"
    }
   ],
   "source": [
    "example[1]"
   ]
  },
  {
   "cell_type": "markdown",
   "metadata": {
    "id": "aUCsD2JVv9OT"
   },
   "source": [
    "# 3. Training"
   ]
  },
  {
   "cell_type": "code",
   "execution_count": 16,
   "metadata": {
    "colab": {
     "base_uri": "https://localhost:8080/",
     "height": 226,
     "referenced_widgets": [
      "ab0b759bb264415d87e9f63e611cbd67",
      "409faf38e4b442d2a86d254b4906f86f",
      "cefd57673f9643d5808e2e8452afd60d",
      "31d069502e3b4211a464221564b7b9fb",
      "91f25f7da2aa4614bd71ffc1cdd6618b",
      "1cbab9f5b0ba48828c438a04af3bebc2",
      "9b2a5bb69360447b8fd564292640f890",
      "f2fcfc8fdfa642f1af49f096bb803fd1",
      "91fecb5a702341ce8831c98e7805be02",
      "e189fa1fed3b481eb6d2772b4cb2017a",
      "7d91ab6284214f8da820184ac4156ae7",
      "d4e61c7df7084b34b7862be25da44f17",
      "af50c7f336c34656b541c54b8b9ad650",
      "be064a5a7795493890cbd851eedd1848",
      "e33437fa2b93447fadb3cab4e3f5965c",
      "f441a86b2cdd451aa44aea563a1778f6"
     ]
    },
    "id": "4UlxQWff1ggd",
    "outputId": "58b1bd3f-1476-46ac-e65c-d93eb1c304c8"
   },
   "outputs": [
    {
     "data": {
      "application/vnd.jupyter.widget-view+json": {
       "model_id": "ab0b759bb264415d87e9f63e611cbd67",
       "version_major": 2,
       "version_minor": 0
      },
      "text/plain": [
       "HBox(children=(FloatProgress(value=0.0, description='Downloading', max=456.0, style=ProgressStyle(description_…"
      ]
     },
     "metadata": {
      "tags": []
     },
     "output_type": "display_data"
    },
    {
     "name": "stdout",
     "output_type": "stream",
     "text": [
      "\n"
     ]
    },
    {
     "data": {
      "application/vnd.jupyter.widget-view+json": {
       "model_id": "91fecb5a702341ce8831c98e7805be02",
       "version_major": 2,
       "version_minor": 0
      },
      "text/plain": [
       "HBox(children=(FloatProgress(value=0.0, description='Downloading', max=441944381.0, style=ProgressStyle(descri…"
      ]
     },
     "metadata": {
      "tags": []
     },
     "output_type": "display_data"
    },
    {
     "name": "stdout",
     "output_type": "stream",
     "text": [
      "\n"
     ]
    },
    {
     "name": "stderr",
     "output_type": "stream",
     "text": [
      "Some weights of the PyTorch model were not used when initializing the TF 2.0 model TFBertModel: ['cls.predictions.transform.dense.bias', 'cls.predictions.transform.LayerNorm.weight', 'cls.predictions.transform.LayerNorm.bias', 'cls.predictions.transform.dense.weight', 'cls.predictions.bias', 'cls.predictions.decoder.weight']\n",
      "- This IS expected if you are initializing TFBertModel from a PyTorch model trained on another task or with another architecture (e.g. initializing a TFBertForSequenceClassification model from a BertForPretraining model).\n",
      "- This IS NOT expected if you are initializing TFBertModel from a PyTorch model that you expect to be exactly identical (e.g. initializing a TFBertForSequenceClassification model from a BertForSequenceClassification model).\n",
      "All the weights of TFBertModel were initialized from the PyTorch model.\n",
      "If your task is similar to the task the model of the ckeckpoint was trained on, you can already use TFBertModel for predictions without further training.\n"
     ]
    }
   ],
   "source": [
    "#La librería transformers nos facilita la clase TFBertModel, que carga los pesos entrenados y nos devuelve los layers de tensorflow.\n",
    "bert = TFBertModel.from_pretrained(BERT_PRETRAINED_NAME,from_pt=True)"
   ]
  },
  {
   "cell_type": "code",
   "execution_count": null,
   "metadata": {
    "colab": {
     "base_uri": "https://localhost:8080/",
     "height": 35
    },
    "id": "kqU2hKlt19PD",
    "outputId": "a12c5235-943d-4a89-ba02-9e6399969576"
   },
   "outputs": [
    {
     "data": {
      "text/plain": [
       "(TensorShape([1, 32, 768]), TensorShape([1, 768]))"
      ]
     },
     "execution_count": 15,
     "metadata": {
      "tags": []
     },
     "output_type": "execute_result"
    }
   ],
   "source": [
    "#BERT espera 32 tokens int, y nos devuelve: (sacado de la documentación de huggingface)\n",
    "#last_hidden_state ->  Sequence of hidden-states at the output of the last layer of the model.\n",
    "#pooler_output -> Last layer hidden-state of the first token of the sequence (classification token) \n",
    "#                 further processed by a Linear layer and a Tanh activation function. \n",
    "#                 The Linear layer weights are trained from the next sentence prediction (classification) objective during pretraining.\n",
    "#                 This output is usually not a good summary of the semantic content of the input, \n",
    "#                 you’re often better with averaging or pooling the sequence of hidden-states for the whole input sequence.\n",
    "\n",
    "bert(example[0])[0].shape, bert(example[0])[1].shape"
   ]
  },
  {
   "cell_type": "markdown",
   "metadata": {
    "id": "Rx5JvstRqWQC"
   },
   "source": [
    "![im](https://miro.medium.com/max/2606/1*LwOHGvXADWzz5S9tYonNeg.png)"
   ]
  },
  {
   "cell_type": "code",
   "execution_count": 17,
   "metadata": {
    "id": "c8K9t9N-rqB4"
   },
   "outputs": [],
   "source": [
    "#Se le asigna un peso a cada clase, dependiendo de su cantidad de apariciones en el dataset\n",
    "#Esto ayuda a que el modelo preste mas atencion a las clases con pocos datos\n",
    "weights = compute_class_weight('balanced', \n",
    "                               np.unique(y_train), \n",
    "                               y_train)\n",
    "\n",
    "cw = dict(enumerate(weights))"
   ]
  },
  {
   "cell_type": "code",
   "execution_count": 18,
   "metadata": {
    "colab": {
     "base_uri": "https://localhost:8080/",
     "height": 35
    },
    "id": "QdeHWHQIBmMD",
    "outputId": "ff2eb134-51e5-4faf-e39c-455c2ce3845a"
   },
   "outputs": [
    {
     "data": {
      "text/plain": [
       "(51.40056818181818, 0.11602837061358506)"
      ]
     },
     "execution_count": 18,
     "metadata": {
      "tags": []
     },
     "output_type": "execute_result"
    }
   ],
   "source": [
    "#La clase 7 tiene menor ocurrencia, se le asigna un peso mayor\n",
    "cw[7], cw[1]"
   ]
  },
  {
   "cell_type": "code",
   "execution_count": 19,
   "metadata": {
    "id": "Sjreweouv-l1"
   },
   "outputs": [],
   "source": [
    "#Para clasificación, se utiliza el pooler output, es decir la salida del token [CLS]\n",
    "#Input -> Solo los index de los tokens (en teoría se debería tambien alimentar con un array \"attention mask\")\n",
    "#Bert pre entrenado -> Tomamos el vector resultante de [CLS] (pooler_output)\n",
    "#Dropout -> Regularización\n",
    "#Output -> Una capa densa con una cantidad de neuronas igual a la cantidad de clases\n",
    "input_layer = keras.layers.Input(shape = (MAX_LEN,), dtype = tf.int32)\n",
    "hidden_states, pooler_output = bert(input_layer)\n",
    "dropout = keras.layers.Dropout(0.35)(pooler_output)\n",
    "output = keras.layers.Dense(CLASSES, activation='softmax')(dropout)\n",
    "\n",
    "model = keras.models.Model(inputs = input_layer,\n",
    "                           outputs = output)\n",
    "\n",
    "#Segun el paper, el mejor parametro para learning_rate cuando se hace fine tuning es 2e-5\n",
    "#Sparse Categorical crossentropy -> Para multiples clases, espera que el target sea un int\n",
    "#Metrica accuracy\n",
    "model.compile(keras.optimizers.Adam(learning_rate = 2e-5),\n",
    "              loss = 'sparse_categorical_crossentropy', \n",
    "              metrics = ['accuracy'])"
   ]
  },
  {
   "cell_type": "code",
   "execution_count": 20,
   "metadata": {
    "colab": {
     "base_uri": "https://localhost:8080/",
     "height": 304
    },
    "id": "ljlAgX04wS_Q",
    "outputId": "89eacb14-74d0-4124-f762-469b39dd582a"
   },
   "outputs": [
    {
     "name": "stdout",
     "output_type": "stream",
     "text": [
      "Model: \"functional_1\"\n",
      "_________________________________________________________________\n",
      "Layer (type)                 Output Shape              Param #   \n",
      "=================================================================\n",
      "input_1 (InputLayer)         [(None, 32)]              0         \n",
      "_________________________________________________________________\n",
      "tf_bert_model (TFBertModel)  ((None, 32, 768), (None,  109850880 \n",
      "_________________________________________________________________\n",
      "dropout_37 (Dropout)         (None, 768)               0         \n",
      "_________________________________________________________________\n",
      "dense (Dense)                (None, 352)               270688    \n",
      "=================================================================\n",
      "Total params: 110,121,568\n",
      "Trainable params: 110,121,568\n",
      "Non-trainable params: 0\n",
      "_________________________________________________________________\n"
     ]
    }
   ],
   "source": [
    "model.summary()"
   ]
  },
  {
   "cell_type": "code",
   "execution_count": null,
   "metadata": {
    "colab": {
     "base_uri": "https://localhost:8080/",
     "height": 626
    },
    "id": "oVH0Zt044OUD",
    "outputId": "fec9b011-9b70-4620-9afd-1d2f15afc4f3"
   },
   "outputs": [
    {
     "name": "stdout",
     "output_type": "stream",
     "text": [
      "Epoch 1/100\n",
      "1131/1131 [==============================] - 202s 178ms/step - loss: 5.9787 - accuracy: 0.0020 - val_loss: 5.7883 - val_accuracy: 0.0060\n",
      "Epoch 2/100\n",
      "1131/1131 [==============================] - 199s 176ms/step - loss: 5.0949 - accuracy: 0.0594 - val_loss: 4.0241 - val_accuracy: 0.2422\n",
      "Epoch 3/100\n",
      "1131/1131 [==============================] - 200s 176ms/step - loss: 3.1126 - accuracy: 0.3240 - val_loss: 2.6020 - val_accuracy: 0.4898\n",
      "Epoch 4/100\n",
      "1131/1131 [==============================] - 200s 177ms/step - loss: 1.7745 - accuracy: 0.5433 - val_loss: 1.7772 - val_accuracy: 0.6390\n",
      "Epoch 5/100\n",
      "1131/1131 [==============================] - 199s 176ms/step - loss: 0.9888 - accuracy: 0.7028 - val_loss: 1.2856 - val_accuracy: 0.7230\n",
      "Epoch 6/100\n",
      "1131/1131 [==============================] - 199s 176ms/step - loss: 0.5572 - accuracy: 0.8041 - val_loss: 0.9842 - val_accuracy: 0.7653\n",
      "Epoch 7/100\n",
      "1131/1131 [==============================] - 199s 176ms/step - loss: 0.3271 - accuracy: 0.8708 - val_loss: 0.8056 - val_accuracy: 0.8016\n",
      "Epoch 8/100\n",
      "1131/1131 [==============================] - 198s 175ms/step - loss: 0.1995 - accuracy: 0.9118 - val_loss: 0.7178 - val_accuracy: 0.8160\n",
      "Epoch 9/100\n",
      "1131/1131 [==============================] - 198s 175ms/step - loss: 0.1434 - accuracy: 0.9346 - val_loss: 0.6688 - val_accuracy: 0.8359\n",
      "Epoch 10/100\n",
      "1131/1131 [==============================] - 199s 176ms/step - loss: 0.1136 - accuracy: 0.9495 - val_loss: 0.7109 - val_accuracy: 0.8235\n",
      "Epoch 11/100\n",
      "1131/1131 [==============================] - 199s 176ms/step - loss: 0.0972 - accuracy: 0.9585 - val_loss: 0.6611 - val_accuracy: 0.8434\n",
      "Epoch 12/100\n",
      "1131/1131 [==============================] - 198s 175ms/step - loss: 0.0859 - accuracy: 0.9614 - val_loss: 0.6633 - val_accuracy: 0.8463\n",
      "Epoch 13/100\n",
      "1131/1131 [==============================] - 200s 176ms/step - loss: 0.0533 - accuracy: 0.9714 - val_loss: 0.7346 - val_accuracy: 0.8309\n",
      "Epoch 14/100\n",
      "1131/1131 [==============================] - 198s 175ms/step - loss: 0.0524 - accuracy: 0.9734 - val_loss: 0.6429 - val_accuracy: 0.8538\n",
      "Epoch 15/100\n",
      "1131/1131 [==============================] - 199s 176ms/step - loss: 0.0503 - accuracy: 0.9784 - val_loss: 0.6483 - val_accuracy: 0.8543\n",
      "Epoch 16/100\n",
      "1131/1131 [==============================] - 198s 175ms/step - loss: 0.0664 - accuracy: 0.9748 - val_loss: 0.6880 - val_accuracy: 0.8409\n",
      "Epoch 17/100\n",
      " 394/1131 [=========>....................] - ETA: 1:38 - loss: 0.0486 - accuracy: 0.9791"
     ]
    }
   ],
   "source": [
    "#Callback para detener el entrenamiento una vez que han transcurrido 5 epochs sin mejorar el val_accuracy\n",
    "callback = keras.callbacks.EarlyStopping(monitor = 'val_accuracy', \n",
    "                                         patience = 5)\n",
    "\n",
    "#Entrenamos el modelo\n",
    "history = model.fit(train_dataset,\n",
    "                    validation_data = test_dataset,\n",
    "                    epochs = 100,\n",
    "                    callbacks = [callback],\n",
    "                    class_weight = cw)"
   ]
  },
  {
   "cell_type": "code",
   "execution_count": null,
   "metadata": {
    "id": "cx6t1VOVOaWb"
   },
   "outputs": [],
   "source": [
    "#Plots de accuracy y loss\n",
    "f, ax = plt.subplots(ncols = 2)\n",
    "\n",
    "ax[0].plot(history.history['val_accuracy'], label = 'Validation')\n",
    "ax[0].plot(history.history['accuracy'], label = 'Train')\n",
    "ax[0].set_title('Accuracy')\n",
    "ax[0].set_xlabel('Epoch')\n",
    "\n",
    "ax[1].plot(history.history['val_loss'], label = 'Validation')\n",
    "ax[1].plot(history.history['loss'], label = 'Train')\n",
    "ax[1].set_title('Loss')\n",
    "ax[1].set_xlabel('Epoch')\n",
    "\n",
    "ax[0].legend()\n",
    "ax[1].legend()\n",
    "plt.show()"
   ]
  },
  {
   "cell_type": "code",
   "execution_count": null,
   "metadata": {
    "id": "Zs2txEgJ-SID"
   },
   "outputs": [],
   "source": [
    "#Guardo el modelo entrenado\n",
    "model.save('/content/drive/My Drive/bert_tensorflow_santander_with_class_weight')"
   ]
  },
  {
   "cell_type": "markdown",
   "metadata": {
    "id": "rO27G8uAFMhI"
   },
   "source": [
    "# 4. Evaluation"
   ]
  },
  {
   "cell_type": "code",
   "execution_count": null,
   "metadata": {
    "id": "ZICZuJH3NBI5"
   },
   "outputs": [],
   "source": [
    "#Testeo modelo con una pregunta.\n",
    "pregunta = 'no me llega el mensaje para poder recuperar mi clave'\n",
    "testeo = tokenizer.encode_plus(pregunta,\n",
    "                               max_length=32,\n",
    "                               add_special_tokens=True,\n",
    "                               return_token_type_ids=False,\n",
    "                               padding='max_length',\n",
    "                               return_attention_mask=True,\n",
    "                               return_tensors='tf')['input_ids']\n",
    "print(testeo)\n",
    "print('El modelo predice que pertenece a la clase:', tf.argmax(model(testeo), axis = 1).numpy()[0])"
   ]
  },
  {
   "cell_type": "code",
   "execution_count": null,
   "metadata": {
    "id": "RHcjXSuhNeKr"
   },
   "outputs": [],
   "source": [
    "#¿La predicción es correcta?\n",
    "train[train['Intencion']==1].head(5)"
   ]
  },
  {
   "cell_type": "code",
   "execution_count": null,
   "metadata": {
    "id": "fEEVerHqqiIx"
   },
   "outputs": [],
   "source": [
    "#Predecimos las categorias del archivo de test para subirlo a la página de la competencia.\n",
    "pred = []\n",
    "preguntas = []\n",
    "\n",
    "for i, pregunta in enumerate(test['Pregunta']):\n",
    "    bert_input = tokenizer.encode_plus(pregunta,\n",
    "                                     truncation = True,\n",
    "                                     max_length = MAX_LEN,\n",
    "                                     add_special_tokens = True,\n",
    "                                     return_token_type_ids = False,\n",
    "                                     padding='max_length',\n",
    "                                     return_attention_mask = False,\n",
    "                                     return_tensors='tf')\n",
    "\n",
    "    input = bert_input['input_ids']\n",
    "    prediction = model(input)\n",
    "    pred.append(tf.argmax(prediction, axis = 1).numpy()[0])\n",
    "\n",
    "    if i % 1500 == 0:\n",
    "        print('Test example n:',i)\n",
    "\n",
    "submission = pd.DataFrame()\n",
    "submission['categoria'] = pd.Series(label_encoder.inverse_transform(pred)).map(lambda x: x.split('_')[1])\n",
    "submission.to_csv('bert_no_class_weight.csv', header = False)"
   ]
  }
 ],
 "metadata": {
  "accelerator": "GPU",
  "colab": {
   "collapsed_sections": [],
   "name": "Santander - TensorFlow - ClassWeight.ipynb",
   "provenance": []
  },
  "kernelspec": {
   "display_name": "Python 3",
   "language": "python",
   "name": "python3"
  },
  "language_info": {
   "codemirror_mode": {
    "name": "ipython",
    "version": 3
   },
   "file_extension": ".py",
   "mimetype": "text/x-python",
   "name": "python",
   "nbconvert_exporter": "python",
   "pygments_lexer": "ipython3",
   "version": "3.7.6"
  },
  "widgets": {
   "application/vnd.jupyter.widget-state+json": {
    "04b29aa3c7a04f3195420668982e07da": {
     "model_module": "@jupyter-widgets/controls",
     "model_name": "ProgressStyleModel",
     "state": {
      "_model_module": "@jupyter-widgets/controls",
      "_model_module_version": "1.5.0",
      "_model_name": "ProgressStyleModel",
      "_view_count": null,
      "_view_module": "@jupyter-widgets/base",
      "_view_module_version": "1.2.0",
      "_view_name": "StyleView",
      "bar_color": null,
      "description_width": "initial"
     }
    },
    "08f6934a1b7e4ce6a41648df03d5b928": {
     "model_module": "@jupyter-widgets/base",
     "model_name": "LayoutModel",
     "state": {
      "_model_module": "@jupyter-widgets/base",
      "_model_module_version": "1.2.0",
      "_model_name": "LayoutModel",
      "_view_count": null,
      "_view_module": "@jupyter-widgets/base",
      "_view_module_version": "1.2.0",
      "_view_name": "LayoutView",
      "align_content": null,
      "align_items": null,
      "align_self": null,
      "border": null,
      "bottom": null,
      "display": null,
      "flex": null,
      "flex_flow": null,
      "grid_area": null,
      "grid_auto_columns": null,
      "grid_auto_flow": null,
      "grid_auto_rows": null,
      "grid_column": null,
      "grid_gap": null,
      "grid_row": null,
      "grid_template_areas": null,
      "grid_template_columns": null,
      "grid_template_rows": null,
      "height": null,
      "justify_content": null,
      "justify_items": null,
      "left": null,
      "margin": null,
      "max_height": null,
      "max_width": null,
      "min_height": null,
      "min_width": null,
      "object_fit": null,
      "object_position": null,
      "order": null,
      "overflow": null,
      "overflow_x": null,
      "overflow_y": null,
      "padding": null,
      "right": null,
      "top": null,
      "visibility": null,
      "width": null
     }
    },
    "108a456cc2f5439f97c519c940cbbe30": {
     "model_module": "@jupyter-widgets/controls",
     "model_name": "HBoxModel",
     "state": {
      "_dom_classes": [],
      "_model_module": "@jupyter-widgets/controls",
      "_model_module_version": "1.5.0",
      "_model_name": "HBoxModel",
      "_view_count": null,
      "_view_module": "@jupyter-widgets/controls",
      "_view_module_version": "1.5.0",
      "_view_name": "HBoxView",
      "box_style": "",
      "children": [
       "IPY_MODEL_4af75c6434dc4698b8740194c71c0755",
       "IPY_MODEL_8be04f0e3145494888abb70e59cc800e"
      ],
      "layout": "IPY_MODEL_3d3a67f0acd445b8941af8d919c03b40"
     }
    },
    "1798f0888f0a495aa0f90bf1a4e5873c": {
     "model_module": "@jupyter-widgets/controls",
     "model_name": "HBoxModel",
     "state": {
      "_dom_classes": [],
      "_model_module": "@jupyter-widgets/controls",
      "_model_module_version": "1.5.0",
      "_model_name": "HBoxModel",
      "_view_count": null,
      "_view_module": "@jupyter-widgets/controls",
      "_view_module_version": "1.5.0",
      "_view_name": "HBoxView",
      "box_style": "",
      "children": [
       "IPY_MODEL_23257ca75b3a47d9ab9ec89b0fe462ce",
       "IPY_MODEL_96cdb6d43ec64dd183a4b842c7320ae3"
      ],
      "layout": "IPY_MODEL_ece91749ee4d47edb77125134f352200"
     }
    },
    "1cbab9f5b0ba48828c438a04af3bebc2": {
     "model_module": "@jupyter-widgets/base",
     "model_name": "LayoutModel",
     "state": {
      "_model_module": "@jupyter-widgets/base",
      "_model_module_version": "1.2.0",
      "_model_name": "LayoutModel",
      "_view_count": null,
      "_view_module": "@jupyter-widgets/base",
      "_view_module_version": "1.2.0",
      "_view_name": "LayoutView",
      "align_content": null,
      "align_items": null,
      "align_self": null,
      "border": null,
      "bottom": null,
      "display": null,
      "flex": null,
      "flex_flow": null,
      "grid_area": null,
      "grid_auto_columns": null,
      "grid_auto_flow": null,
      "grid_auto_rows": null,
      "grid_column": null,
      "grid_gap": null,
      "grid_row": null,
      "grid_template_areas": null,
      "grid_template_columns": null,
      "grid_template_rows": null,
      "height": null,
      "justify_content": null,
      "justify_items": null,
      "left": null,
      "margin": null,
      "max_height": null,
      "max_width": null,
      "min_height": null,
      "min_width": null,
      "object_fit": null,
      "object_position": null,
      "order": null,
      "overflow": null,
      "overflow_x": null,
      "overflow_y": null,
      "padding": null,
      "right": null,
      "top": null,
      "visibility": null,
      "width": null
     }
    },
    "23257ca75b3a47d9ab9ec89b0fe462ce": {
     "model_module": "@jupyter-widgets/controls",
     "model_name": "FloatProgressModel",
     "state": {
      "_dom_classes": [],
      "_model_module": "@jupyter-widgets/controls",
      "_model_module_version": "1.5.0",
      "_model_name": "FloatProgressModel",
      "_view_count": null,
      "_view_module": "@jupyter-widgets/controls",
      "_view_module_version": "1.5.0",
      "_view_name": "ProgressView",
      "bar_style": "success",
      "description": "Downloading: 100%",
      "description_tooltip": null,
      "layout": "IPY_MODEL_b1286810c76a403eb1271095e36ad488",
      "max": 2,
      "min": 0,
      "orientation": "horizontal",
      "style": "IPY_MODEL_a9ccb04bab8c4758b809b927ac97bb6b",
      "value": 2
     }
    },
    "2edc1ecd523e4a748e0b0110b7008136": {
     "model_module": "@jupyter-widgets/controls",
     "model_name": "FloatProgressModel",
     "state": {
      "_dom_classes": [],
      "_model_module": "@jupyter-widgets/controls",
      "_model_module_version": "1.5.0",
      "_model_name": "FloatProgressModel",
      "_view_count": null,
      "_view_module": "@jupyter-widgets/controls",
      "_view_module_version": "1.5.0",
      "_view_name": "ProgressView",
      "bar_style": "success",
      "description": "Downloading: 100%",
      "description_tooltip": null,
      "layout": "IPY_MODEL_508d69af97e04f889727f4ce411dd0aa",
      "max": 112,
      "min": 0,
      "orientation": "horizontal",
      "style": "IPY_MODEL_04b29aa3c7a04f3195420668982e07da",
      "value": 112
     }
    },
    "304d1f7e6c1a41a980c8dec2e7538072": {
     "model_module": "@jupyter-widgets/base",
     "model_name": "LayoutModel",
     "state": {
      "_model_module": "@jupyter-widgets/base",
      "_model_module_version": "1.2.0",
      "_model_name": "LayoutModel",
      "_view_count": null,
      "_view_module": "@jupyter-widgets/base",
      "_view_module_version": "1.2.0",
      "_view_name": "LayoutView",
      "align_content": null,
      "align_items": null,
      "align_self": null,
      "border": null,
      "bottom": null,
      "display": null,
      "flex": null,
      "flex_flow": null,
      "grid_area": null,
      "grid_auto_columns": null,
      "grid_auto_flow": null,
      "grid_auto_rows": null,
      "grid_column": null,
      "grid_gap": null,
      "grid_row": null,
      "grid_template_areas": null,
      "grid_template_columns": null,
      "grid_template_rows": null,
      "height": null,
      "justify_content": null,
      "justify_items": null,
      "left": null,
      "margin": null,
      "max_height": null,
      "max_width": null,
      "min_height": null,
      "min_width": null,
      "object_fit": null,
      "object_position": null,
      "order": null,
      "overflow": null,
      "overflow_x": null,
      "overflow_y": null,
      "padding": null,
      "right": null,
      "top": null,
      "visibility": null,
      "width": null
     }
    },
    "31d069502e3b4211a464221564b7b9fb": {
     "model_module": "@jupyter-widgets/controls",
     "model_name": "HTMLModel",
     "state": {
      "_dom_classes": [],
      "_model_module": "@jupyter-widgets/controls",
      "_model_module_version": "1.5.0",
      "_model_name": "HTMLModel",
      "_view_count": null,
      "_view_module": "@jupyter-widgets/controls",
      "_view_module_version": "1.5.0",
      "_view_name": "HTMLView",
      "description": "",
      "description_tooltip": null,
      "layout": "IPY_MODEL_f2fcfc8fdfa642f1af49f096bb803fd1",
      "placeholder": "​",
      "style": "IPY_MODEL_9b2a5bb69360447b8fd564292640f890",
      "value": " 456/456 [00:00&lt;00:00, 631B/s]"
     }
    },
    "37391191d6214592a65f31205646ca79": {
     "model_module": "@jupyter-widgets/controls",
     "model_name": "ProgressStyleModel",
     "state": {
      "_model_module": "@jupyter-widgets/controls",
      "_model_module_version": "1.5.0",
      "_model_name": "ProgressStyleModel",
      "_view_count": null,
      "_view_module": "@jupyter-widgets/base",
      "_view_module_version": "1.2.0",
      "_view_name": "StyleView",
      "bar_color": null,
      "description_width": "initial"
     }
    },
    "3d3a67f0acd445b8941af8d919c03b40": {
     "model_module": "@jupyter-widgets/base",
     "model_name": "LayoutModel",
     "state": {
      "_model_module": "@jupyter-widgets/base",
      "_model_module_version": "1.2.0",
      "_model_name": "LayoutModel",
      "_view_count": null,
      "_view_module": "@jupyter-widgets/base",
      "_view_module_version": "1.2.0",
      "_view_name": "LayoutView",
      "align_content": null,
      "align_items": null,
      "align_self": null,
      "border": null,
      "bottom": null,
      "display": null,
      "flex": null,
      "flex_flow": null,
      "grid_area": null,
      "grid_auto_columns": null,
      "grid_auto_flow": null,
      "grid_auto_rows": null,
      "grid_column": null,
      "grid_gap": null,
      "grid_row": null,
      "grid_template_areas": null,
      "grid_template_columns": null,
      "grid_template_rows": null,
      "height": null,
      "justify_content": null,
      "justify_items": null,
      "left": null,
      "margin": null,
      "max_height": null,
      "max_width": null,
      "min_height": null,
      "min_width": null,
      "object_fit": null,
      "object_position": null,
      "order": null,
      "overflow": null,
      "overflow_x": null,
      "overflow_y": null,
      "padding": null,
      "right": null,
      "top": null,
      "visibility": null,
      "width": null
     }
    },
    "3da1a54fc19e4ea5acbdac3503761997": {
     "model_module": "@jupyter-widgets/base",
     "model_name": "LayoutModel",
     "state": {
      "_model_module": "@jupyter-widgets/base",
      "_model_module_version": "1.2.0",
      "_model_name": "LayoutModel",
      "_view_count": null,
      "_view_module": "@jupyter-widgets/base",
      "_view_module_version": "1.2.0",
      "_view_name": "LayoutView",
      "align_content": null,
      "align_items": null,
      "align_self": null,
      "border": null,
      "bottom": null,
      "display": null,
      "flex": null,
      "flex_flow": null,
      "grid_area": null,
      "grid_auto_columns": null,
      "grid_auto_flow": null,
      "grid_auto_rows": null,
      "grid_column": null,
      "grid_gap": null,
      "grid_row": null,
      "grid_template_areas": null,
      "grid_template_columns": null,
      "grid_template_rows": null,
      "height": null,
      "justify_content": null,
      "justify_items": null,
      "left": null,
      "margin": null,
      "max_height": null,
      "max_width": null,
      "min_height": null,
      "min_width": null,
      "object_fit": null,
      "object_position": null,
      "order": null,
      "overflow": null,
      "overflow_x": null,
      "overflow_y": null,
      "padding": null,
      "right": null,
      "top": null,
      "visibility": null,
      "width": null
     }
    },
    "3e629c0de5c34e3a9520fefde5c4f1d9": {
     "model_module": "@jupyter-widgets/base",
     "model_name": "LayoutModel",
     "state": {
      "_model_module": "@jupyter-widgets/base",
      "_model_module_version": "1.2.0",
      "_model_name": "LayoutModel",
      "_view_count": null,
      "_view_module": "@jupyter-widgets/base",
      "_view_module_version": "1.2.0",
      "_view_name": "LayoutView",
      "align_content": null,
      "align_items": null,
      "align_self": null,
      "border": null,
      "bottom": null,
      "display": null,
      "flex": null,
      "flex_flow": null,
      "grid_area": null,
      "grid_auto_columns": null,
      "grid_auto_flow": null,
      "grid_auto_rows": null,
      "grid_column": null,
      "grid_gap": null,
      "grid_row": null,
      "grid_template_areas": null,
      "grid_template_columns": null,
      "grid_template_rows": null,
      "height": null,
      "justify_content": null,
      "justify_items": null,
      "left": null,
      "margin": null,
      "max_height": null,
      "max_width": null,
      "min_height": null,
      "min_width": null,
      "object_fit": null,
      "object_position": null,
      "order": null,
      "overflow": null,
      "overflow_x": null,
      "overflow_y": null,
      "padding": null,
      "right": null,
      "top": null,
      "visibility": null,
      "width": null
     }
    },
    "409faf38e4b442d2a86d254b4906f86f": {
     "model_module": "@jupyter-widgets/base",
     "model_name": "LayoutModel",
     "state": {
      "_model_module": "@jupyter-widgets/base",
      "_model_module_version": "1.2.0",
      "_model_name": "LayoutModel",
      "_view_count": null,
      "_view_module": "@jupyter-widgets/base",
      "_view_module_version": "1.2.0",
      "_view_name": "LayoutView",
      "align_content": null,
      "align_items": null,
      "align_self": null,
      "border": null,
      "bottom": null,
      "display": null,
      "flex": null,
      "flex_flow": null,
      "grid_area": null,
      "grid_auto_columns": null,
      "grid_auto_flow": null,
      "grid_auto_rows": null,
      "grid_column": null,
      "grid_gap": null,
      "grid_row": null,
      "grid_template_areas": null,
      "grid_template_columns": null,
      "grid_template_rows": null,
      "height": null,
      "justify_content": null,
      "justify_items": null,
      "left": null,
      "margin": null,
      "max_height": null,
      "max_width": null,
      "min_height": null,
      "min_width": null,
      "object_fit": null,
      "object_position": null,
      "order": null,
      "overflow": null,
      "overflow_x": null,
      "overflow_y": null,
      "padding": null,
      "right": null,
      "top": null,
      "visibility": null,
      "width": null
     }
    },
    "4880f3c26b0145e0ac77a0ae4ad6ca4a": {
     "model_module": "@jupyter-widgets/controls",
     "model_name": "DescriptionStyleModel",
     "state": {
      "_model_module": "@jupyter-widgets/controls",
      "_model_module_version": "1.5.0",
      "_model_name": "DescriptionStyleModel",
      "_view_count": null,
      "_view_module": "@jupyter-widgets/base",
      "_view_module_version": "1.2.0",
      "_view_name": "StyleView",
      "description_width": ""
     }
    },
    "4a37067c4b78459c8a34d6722eec9d9f": {
     "model_module": "@jupyter-widgets/controls",
     "model_name": "DescriptionStyleModel",
     "state": {
      "_model_module": "@jupyter-widgets/controls",
      "_model_module_version": "1.5.0",
      "_model_name": "DescriptionStyleModel",
      "_view_count": null,
      "_view_module": "@jupyter-widgets/base",
      "_view_module_version": "1.2.0",
      "_view_name": "StyleView",
      "description_width": ""
     }
    },
    "4af75c6434dc4698b8740194c71c0755": {
     "model_module": "@jupyter-widgets/controls",
     "model_name": "FloatProgressModel",
     "state": {
      "_dom_classes": [],
      "_model_module": "@jupyter-widgets/controls",
      "_model_module_version": "1.5.0",
      "_model_name": "FloatProgressModel",
      "_view_count": null,
      "_view_module": "@jupyter-widgets/controls",
      "_view_module_version": "1.5.0",
      "_view_name": "ProgressView",
      "bar_style": "success",
      "description": "Downloading: 100%",
      "description_tooltip": null,
      "layout": "IPY_MODEL_3e629c0de5c34e3a9520fefde5c4f1d9",
      "max": 43,
      "min": 0,
      "orientation": "horizontal",
      "style": "IPY_MODEL_37391191d6214592a65f31205646ca79",
      "value": 43
     }
    },
    "508d69af97e04f889727f4ce411dd0aa": {
     "model_module": "@jupyter-widgets/base",
     "model_name": "LayoutModel",
     "state": {
      "_model_module": "@jupyter-widgets/base",
      "_model_module_version": "1.2.0",
      "_model_name": "LayoutModel",
      "_view_count": null,
      "_view_module": "@jupyter-widgets/base",
      "_view_module_version": "1.2.0",
      "_view_name": "LayoutView",
      "align_content": null,
      "align_items": null,
      "align_self": null,
      "border": null,
      "bottom": null,
      "display": null,
      "flex": null,
      "flex_flow": null,
      "grid_area": null,
      "grid_auto_columns": null,
      "grid_auto_flow": null,
      "grid_auto_rows": null,
      "grid_column": null,
      "grid_gap": null,
      "grid_row": null,
      "grid_template_areas": null,
      "grid_template_columns": null,
      "grid_template_rows": null,
      "height": null,
      "justify_content": null,
      "justify_items": null,
      "left": null,
      "margin": null,
      "max_height": null,
      "max_width": null,
      "min_height": null,
      "min_width": null,
      "object_fit": null,
      "object_position": null,
      "order": null,
      "overflow": null,
      "overflow_x": null,
      "overflow_y": null,
      "padding": null,
      "right": null,
      "top": null,
      "visibility": null,
      "width": null
     }
    },
    "54f12d678c3f45d5bb8eecdcd627ddeb": {
     "model_module": "@jupyter-widgets/controls",
     "model_name": "ProgressStyleModel",
     "state": {
      "_model_module": "@jupyter-widgets/controls",
      "_model_module_version": "1.5.0",
      "_model_name": "ProgressStyleModel",
      "_view_count": null,
      "_view_module": "@jupyter-widgets/base",
      "_view_module_version": "1.2.0",
      "_view_name": "StyleView",
      "bar_color": null,
      "description_width": "initial"
     }
    },
    "55f2e21d9ef64727855b968ffa525d2b": {
     "model_module": "@jupyter-widgets/base",
     "model_name": "LayoutModel",
     "state": {
      "_model_module": "@jupyter-widgets/base",
      "_model_module_version": "1.2.0",
      "_model_name": "LayoutModel",
      "_view_count": null,
      "_view_module": "@jupyter-widgets/base",
      "_view_module_version": "1.2.0",
      "_view_name": "LayoutView",
      "align_content": null,
      "align_items": null,
      "align_self": null,
      "border": null,
      "bottom": null,
      "display": null,
      "flex": null,
      "flex_flow": null,
      "grid_area": null,
      "grid_auto_columns": null,
      "grid_auto_flow": null,
      "grid_auto_rows": null,
      "grid_column": null,
      "grid_gap": null,
      "grid_row": null,
      "grid_template_areas": null,
      "grid_template_columns": null,
      "grid_template_rows": null,
      "height": null,
      "justify_content": null,
      "justify_items": null,
      "left": null,
      "margin": null,
      "max_height": null,
      "max_width": null,
      "min_height": null,
      "min_width": null,
      "object_fit": null,
      "object_position": null,
      "order": null,
      "overflow": null,
      "overflow_x": null,
      "overflow_y": null,
      "padding": null,
      "right": null,
      "top": null,
      "visibility": null,
      "width": null
     }
    },
    "62cb3faa6f934518ae7e5c22e2de53d2": {
     "model_module": "@jupyter-widgets/controls",
     "model_name": "HBoxModel",
     "state": {
      "_dom_classes": [],
      "_model_module": "@jupyter-widgets/controls",
      "_model_module_version": "1.5.0",
      "_model_name": "HBoxModel",
      "_view_count": null,
      "_view_module": "@jupyter-widgets/controls",
      "_view_module_version": "1.5.0",
      "_view_name": "HBoxView",
      "box_style": "",
      "children": [
       "IPY_MODEL_7162c29d00a34b179b53e92fb4de7195",
       "IPY_MODEL_c03f9742f4c14cf494c79a2cdfe27ea9"
      ],
      "layout": "IPY_MODEL_6ec5ebd4887141ae976c2e2963a1a596"
     }
    },
    "6c628a3417fd43638d1b9940f77bd29f": {
     "model_module": "@jupyter-widgets/controls",
     "model_name": "DescriptionStyleModel",
     "state": {
      "_model_module": "@jupyter-widgets/controls",
      "_model_module_version": "1.5.0",
      "_model_name": "DescriptionStyleModel",
      "_view_count": null,
      "_view_module": "@jupyter-widgets/base",
      "_view_module_version": "1.2.0",
      "_view_name": "StyleView",
      "description_width": ""
     }
    },
    "6ec5ebd4887141ae976c2e2963a1a596": {
     "model_module": "@jupyter-widgets/base",
     "model_name": "LayoutModel",
     "state": {
      "_model_module": "@jupyter-widgets/base",
      "_model_module_version": "1.2.0",
      "_model_name": "LayoutModel",
      "_view_count": null,
      "_view_module": "@jupyter-widgets/base",
      "_view_module_version": "1.2.0",
      "_view_name": "LayoutView",
      "align_content": null,
      "align_items": null,
      "align_self": null,
      "border": null,
      "bottom": null,
      "display": null,
      "flex": null,
      "flex_flow": null,
      "grid_area": null,
      "grid_auto_columns": null,
      "grid_auto_flow": null,
      "grid_auto_rows": null,
      "grid_column": null,
      "grid_gap": null,
      "grid_row": null,
      "grid_template_areas": null,
      "grid_template_columns": null,
      "grid_template_rows": null,
      "height": null,
      "justify_content": null,
      "justify_items": null,
      "left": null,
      "margin": null,
      "max_height": null,
      "max_width": null,
      "min_height": null,
      "min_width": null,
      "object_fit": null,
      "object_position": null,
      "order": null,
      "overflow": null,
      "overflow_x": null,
      "overflow_y": null,
      "padding": null,
      "right": null,
      "top": null,
      "visibility": null,
      "width": null
     }
    },
    "7162c29d00a34b179b53e92fb4de7195": {
     "model_module": "@jupyter-widgets/controls",
     "model_name": "FloatProgressModel",
     "state": {
      "_dom_classes": [],
      "_model_module": "@jupyter-widgets/controls",
      "_model_module_version": "1.5.0",
      "_model_name": "FloatProgressModel",
      "_view_count": null,
      "_view_module": "@jupyter-widgets/controls",
      "_view_module_version": "1.5.0",
      "_view_name": "ProgressView",
      "bar_style": "success",
      "description": "Downloading: 100%",
      "description_tooltip": null,
      "layout": "IPY_MODEL_55f2e21d9ef64727855b968ffa525d2b",
      "max": 242120,
      "min": 0,
      "orientation": "horizontal",
      "style": "IPY_MODEL_54f12d678c3f45d5bb8eecdcd627ddeb",
      "value": 242120
     }
    },
    "7d91ab6284214f8da820184ac4156ae7": {
     "model_module": "@jupyter-widgets/controls",
     "model_name": "FloatProgressModel",
     "state": {
      "_dom_classes": [],
      "_model_module": "@jupyter-widgets/controls",
      "_model_module_version": "1.5.0",
      "_model_name": "FloatProgressModel",
      "_view_count": null,
      "_view_module": "@jupyter-widgets/controls",
      "_view_module_version": "1.5.0",
      "_view_name": "ProgressView",
      "bar_style": "success",
      "description": "Downloading: 100%",
      "description_tooltip": null,
      "layout": "IPY_MODEL_be064a5a7795493890cbd851eedd1848",
      "max": 441944381,
      "min": 0,
      "orientation": "horizontal",
      "style": "IPY_MODEL_af50c7f336c34656b541c54b8b9ad650",
      "value": 441944381
     }
    },
    "8be04f0e3145494888abb70e59cc800e": {
     "model_module": "@jupyter-widgets/controls",
     "model_name": "HTMLModel",
     "state": {
      "_dom_classes": [],
      "_model_module": "@jupyter-widgets/controls",
      "_model_module_version": "1.5.0",
      "_model_name": "HTMLModel",
      "_view_count": null,
      "_view_module": "@jupyter-widgets/controls",
      "_view_module_version": "1.5.0",
      "_view_name": "HTMLView",
      "description": "",
      "description_tooltip": null,
      "layout": "IPY_MODEL_f00b5b4da0994a0b864cef0a4377a2e6",
      "placeholder": "​",
      "style": "IPY_MODEL_4880f3c26b0145e0ac77a0ae4ad6ca4a",
      "value": " 43.0/43.0 [00:00&lt;00:00, 119B/s]"
     }
    },
    "91f25f7da2aa4614bd71ffc1cdd6618b": {
     "model_module": "@jupyter-widgets/controls",
     "model_name": "ProgressStyleModel",
     "state": {
      "_model_module": "@jupyter-widgets/controls",
      "_model_module_version": "1.5.0",
      "_model_name": "ProgressStyleModel",
      "_view_count": null,
      "_view_module": "@jupyter-widgets/base",
      "_view_module_version": "1.2.0",
      "_view_name": "StyleView",
      "bar_color": null,
      "description_width": "initial"
     }
    },
    "91fecb5a702341ce8831c98e7805be02": {
     "model_module": "@jupyter-widgets/controls",
     "model_name": "HBoxModel",
     "state": {
      "_dom_classes": [],
      "_model_module": "@jupyter-widgets/controls",
      "_model_module_version": "1.5.0",
      "_model_name": "HBoxModel",
      "_view_count": null,
      "_view_module": "@jupyter-widgets/controls",
      "_view_module_version": "1.5.0",
      "_view_name": "HBoxView",
      "box_style": "",
      "children": [
       "IPY_MODEL_7d91ab6284214f8da820184ac4156ae7",
       "IPY_MODEL_d4e61c7df7084b34b7862be25da44f17"
      ],
      "layout": "IPY_MODEL_e189fa1fed3b481eb6d2772b4cb2017a"
     }
    },
    "96cdb6d43ec64dd183a4b842c7320ae3": {
     "model_module": "@jupyter-widgets/controls",
     "model_name": "HTMLModel",
     "state": {
      "_dom_classes": [],
      "_model_module": "@jupyter-widgets/controls",
      "_model_module_version": "1.5.0",
      "_model_name": "HTMLModel",
      "_view_count": null,
      "_view_module": "@jupyter-widgets/controls",
      "_view_module_version": "1.5.0",
      "_view_name": "HTMLView",
      "description": "",
      "description_tooltip": null,
      "layout": "IPY_MODEL_3da1a54fc19e4ea5acbdac3503761997",
      "placeholder": "​",
      "style": "IPY_MODEL_6c628a3417fd43638d1b9940f77bd29f",
      "value": " 2.00/2.00 [00:01&lt;00:00, 1.28B/s]"
     }
    },
    "9b2a5bb69360447b8fd564292640f890": {
     "model_module": "@jupyter-widgets/controls",
     "model_name": "DescriptionStyleModel",
     "state": {
      "_model_module": "@jupyter-widgets/controls",
      "_model_module_version": "1.5.0",
      "_model_name": "DescriptionStyleModel",
      "_view_count": null,
      "_view_module": "@jupyter-widgets/base",
      "_view_module_version": "1.2.0",
      "_view_name": "StyleView",
      "description_width": ""
     }
    },
    "a9ccb04bab8c4758b809b927ac97bb6b": {
     "model_module": "@jupyter-widgets/controls",
     "model_name": "ProgressStyleModel",
     "state": {
      "_model_module": "@jupyter-widgets/controls",
      "_model_module_version": "1.5.0",
      "_model_name": "ProgressStyleModel",
      "_view_count": null,
      "_view_module": "@jupyter-widgets/base",
      "_view_module_version": "1.2.0",
      "_view_name": "StyleView",
      "bar_color": null,
      "description_width": "initial"
     }
    },
    "ab0b759bb264415d87e9f63e611cbd67": {
     "model_module": "@jupyter-widgets/controls",
     "model_name": "HBoxModel",
     "state": {
      "_dom_classes": [],
      "_model_module": "@jupyter-widgets/controls",
      "_model_module_version": "1.5.0",
      "_model_name": "HBoxModel",
      "_view_count": null,
      "_view_module": "@jupyter-widgets/controls",
      "_view_module_version": "1.5.0",
      "_view_name": "HBoxView",
      "box_style": "",
      "children": [
       "IPY_MODEL_cefd57673f9643d5808e2e8452afd60d",
       "IPY_MODEL_31d069502e3b4211a464221564b7b9fb"
      ],
      "layout": "IPY_MODEL_409faf38e4b442d2a86d254b4906f86f"
     }
    },
    "af50c7f336c34656b541c54b8b9ad650": {
     "model_module": "@jupyter-widgets/controls",
     "model_name": "ProgressStyleModel",
     "state": {
      "_model_module": "@jupyter-widgets/controls",
      "_model_module_version": "1.5.0",
      "_model_name": "ProgressStyleModel",
      "_view_count": null,
      "_view_module": "@jupyter-widgets/base",
      "_view_module_version": "1.2.0",
      "_view_name": "StyleView",
      "bar_color": null,
      "description_width": "initial"
     }
    },
    "b1286810c76a403eb1271095e36ad488": {
     "model_module": "@jupyter-widgets/base",
     "model_name": "LayoutModel",
     "state": {
      "_model_module": "@jupyter-widgets/base",
      "_model_module_version": "1.2.0",
      "_model_name": "LayoutModel",
      "_view_count": null,
      "_view_module": "@jupyter-widgets/base",
      "_view_module_version": "1.2.0",
      "_view_name": "LayoutView",
      "align_content": null,
      "align_items": null,
      "align_self": null,
      "border": null,
      "bottom": null,
      "display": null,
      "flex": null,
      "flex_flow": null,
      "grid_area": null,
      "grid_auto_columns": null,
      "grid_auto_flow": null,
      "grid_auto_rows": null,
      "grid_column": null,
      "grid_gap": null,
      "grid_row": null,
      "grid_template_areas": null,
      "grid_template_columns": null,
      "grid_template_rows": null,
      "height": null,
      "justify_content": null,
      "justify_items": null,
      "left": null,
      "margin": null,
      "max_height": null,
      "max_width": null,
      "min_height": null,
      "min_width": null,
      "object_fit": null,
      "object_position": null,
      "order": null,
      "overflow": null,
      "overflow_x": null,
      "overflow_y": null,
      "padding": null,
      "right": null,
      "top": null,
      "visibility": null,
      "width": null
     }
    },
    "be064a5a7795493890cbd851eedd1848": {
     "model_module": "@jupyter-widgets/base",
     "model_name": "LayoutModel",
     "state": {
      "_model_module": "@jupyter-widgets/base",
      "_model_module_version": "1.2.0",
      "_model_name": "LayoutModel",
      "_view_count": null,
      "_view_module": "@jupyter-widgets/base",
      "_view_module_version": "1.2.0",
      "_view_name": "LayoutView",
      "align_content": null,
      "align_items": null,
      "align_self": null,
      "border": null,
      "bottom": null,
      "display": null,
      "flex": null,
      "flex_flow": null,
      "grid_area": null,
      "grid_auto_columns": null,
      "grid_auto_flow": null,
      "grid_auto_rows": null,
      "grid_column": null,
      "grid_gap": null,
      "grid_row": null,
      "grid_template_areas": null,
      "grid_template_columns": null,
      "grid_template_rows": null,
      "height": null,
      "justify_content": null,
      "justify_items": null,
      "left": null,
      "margin": null,
      "max_height": null,
      "max_width": null,
      "min_height": null,
      "min_width": null,
      "object_fit": null,
      "object_position": null,
      "order": null,
      "overflow": null,
      "overflow_x": null,
      "overflow_y": null,
      "padding": null,
      "right": null,
      "top": null,
      "visibility": null,
      "width": null
     }
    },
    "c03f9742f4c14cf494c79a2cdfe27ea9": {
     "model_module": "@jupyter-widgets/controls",
     "model_name": "HTMLModel",
     "state": {
      "_dom_classes": [],
      "_model_module": "@jupyter-widgets/controls",
      "_model_module_version": "1.5.0",
      "_model_name": "HTMLModel",
      "_view_count": null,
      "_view_module": "@jupyter-widgets/controls",
      "_view_module_version": "1.5.0",
      "_view_name": "HTMLView",
      "description": "",
      "description_tooltip": null,
      "layout": "IPY_MODEL_304d1f7e6c1a41a980c8dec2e7538072",
      "placeholder": "​",
      "style": "IPY_MODEL_de905df2dd4b45eea23c0cf6129eec2f",
      "value": " 242k/242k [00:00&lt;00:00, 269kB/s]"
     }
    },
    "cecbfde3048d4ce0b1156d76ec526d43": {
     "model_module": "@jupyter-widgets/base",
     "model_name": "LayoutModel",
     "state": {
      "_model_module": "@jupyter-widgets/base",
      "_model_module_version": "1.2.0",
      "_model_name": "LayoutModel",
      "_view_count": null,
      "_view_module": "@jupyter-widgets/base",
      "_view_module_version": "1.2.0",
      "_view_name": "LayoutView",
      "align_content": null,
      "align_items": null,
      "align_self": null,
      "border": null,
      "bottom": null,
      "display": null,
      "flex": null,
      "flex_flow": null,
      "grid_area": null,
      "grid_auto_columns": null,
      "grid_auto_flow": null,
      "grid_auto_rows": null,
      "grid_column": null,
      "grid_gap": null,
      "grid_row": null,
      "grid_template_areas": null,
      "grid_template_columns": null,
      "grid_template_rows": null,
      "height": null,
      "justify_content": null,
      "justify_items": null,
      "left": null,
      "margin": null,
      "max_height": null,
      "max_width": null,
      "min_height": null,
      "min_width": null,
      "object_fit": null,
      "object_position": null,
      "order": null,
      "overflow": null,
      "overflow_x": null,
      "overflow_y": null,
      "padding": null,
      "right": null,
      "top": null,
      "visibility": null,
      "width": null
     }
    },
    "cefd57673f9643d5808e2e8452afd60d": {
     "model_module": "@jupyter-widgets/controls",
     "model_name": "FloatProgressModel",
     "state": {
      "_dom_classes": [],
      "_model_module": "@jupyter-widgets/controls",
      "_model_module_version": "1.5.0",
      "_model_name": "FloatProgressModel",
      "_view_count": null,
      "_view_module": "@jupyter-widgets/controls",
      "_view_module_version": "1.5.0",
      "_view_name": "ProgressView",
      "bar_style": "success",
      "description": "Downloading: 100%",
      "description_tooltip": null,
      "layout": "IPY_MODEL_1cbab9f5b0ba48828c438a04af3bebc2",
      "max": 456,
      "min": 0,
      "orientation": "horizontal",
      "style": "IPY_MODEL_91f25f7da2aa4614bd71ffc1cdd6618b",
      "value": 456
     }
    },
    "d4e61c7df7084b34b7862be25da44f17": {
     "model_module": "@jupyter-widgets/controls",
     "model_name": "HTMLModel",
     "state": {
      "_dom_classes": [],
      "_model_module": "@jupyter-widgets/controls",
      "_model_module_version": "1.5.0",
      "_model_name": "HTMLModel",
      "_view_count": null,
      "_view_module": "@jupyter-widgets/controls",
      "_view_module_version": "1.5.0",
      "_view_name": "HTMLView",
      "description": "",
      "description_tooltip": null,
      "layout": "IPY_MODEL_f441a86b2cdd451aa44aea563a1778f6",
      "placeholder": "​",
      "style": "IPY_MODEL_e33437fa2b93447fadb3cab4e3f5965c",
      "value": " 442M/442M [00:14&lt;00:00, 31.2MB/s]"
     }
    },
    "de905df2dd4b45eea23c0cf6129eec2f": {
     "model_module": "@jupyter-widgets/controls",
     "model_name": "DescriptionStyleModel",
     "state": {
      "_model_module": "@jupyter-widgets/controls",
      "_model_module_version": "1.5.0",
      "_model_name": "DescriptionStyleModel",
      "_view_count": null,
      "_view_module": "@jupyter-widgets/base",
      "_view_module_version": "1.2.0",
      "_view_name": "StyleView",
      "description_width": ""
     }
    },
    "e189fa1fed3b481eb6d2772b4cb2017a": {
     "model_module": "@jupyter-widgets/base",
     "model_name": "LayoutModel",
     "state": {
      "_model_module": "@jupyter-widgets/base",
      "_model_module_version": "1.2.0",
      "_model_name": "LayoutModel",
      "_view_count": null,
      "_view_module": "@jupyter-widgets/base",
      "_view_module_version": "1.2.0",
      "_view_name": "LayoutView",
      "align_content": null,
      "align_items": null,
      "align_self": null,
      "border": null,
      "bottom": null,
      "display": null,
      "flex": null,
      "flex_flow": null,
      "grid_area": null,
      "grid_auto_columns": null,
      "grid_auto_flow": null,
      "grid_auto_rows": null,
      "grid_column": null,
      "grid_gap": null,
      "grid_row": null,
      "grid_template_areas": null,
      "grid_template_columns": null,
      "grid_template_rows": null,
      "height": null,
      "justify_content": null,
      "justify_items": null,
      "left": null,
      "margin": null,
      "max_height": null,
      "max_width": null,
      "min_height": null,
      "min_width": null,
      "object_fit": null,
      "object_position": null,
      "order": null,
      "overflow": null,
      "overflow_x": null,
      "overflow_y": null,
      "padding": null,
      "right": null,
      "top": null,
      "visibility": null,
      "width": null
     }
    },
    "e33437fa2b93447fadb3cab4e3f5965c": {
     "model_module": "@jupyter-widgets/controls",
     "model_name": "DescriptionStyleModel",
     "state": {
      "_model_module": "@jupyter-widgets/controls",
      "_model_module_version": "1.5.0",
      "_model_name": "DescriptionStyleModel",
      "_view_count": null,
      "_view_module": "@jupyter-widgets/base",
      "_view_module_version": "1.2.0",
      "_view_name": "StyleView",
      "description_width": ""
     }
    },
    "ece91749ee4d47edb77125134f352200": {
     "model_module": "@jupyter-widgets/base",
     "model_name": "LayoutModel",
     "state": {
      "_model_module": "@jupyter-widgets/base",
      "_model_module_version": "1.2.0",
      "_model_name": "LayoutModel",
      "_view_count": null,
      "_view_module": "@jupyter-widgets/base",
      "_view_module_version": "1.2.0",
      "_view_name": "LayoutView",
      "align_content": null,
      "align_items": null,
      "align_self": null,
      "border": null,
      "bottom": null,
      "display": null,
      "flex": null,
      "flex_flow": null,
      "grid_area": null,
      "grid_auto_columns": null,
      "grid_auto_flow": null,
      "grid_auto_rows": null,
      "grid_column": null,
      "grid_gap": null,
      "grid_row": null,
      "grid_template_areas": null,
      "grid_template_columns": null,
      "grid_template_rows": null,
      "height": null,
      "justify_content": null,
      "justify_items": null,
      "left": null,
      "margin": null,
      "max_height": null,
      "max_width": null,
      "min_height": null,
      "min_width": null,
      "object_fit": null,
      "object_position": null,
      "order": null,
      "overflow": null,
      "overflow_x": null,
      "overflow_y": null,
      "padding": null,
      "right": null,
      "top": null,
      "visibility": null,
      "width": null
     }
    },
    "f00b5b4da0994a0b864cef0a4377a2e6": {
     "model_module": "@jupyter-widgets/base",
     "model_name": "LayoutModel",
     "state": {
      "_model_module": "@jupyter-widgets/base",
      "_model_module_version": "1.2.0",
      "_model_name": "LayoutModel",
      "_view_count": null,
      "_view_module": "@jupyter-widgets/base",
      "_view_module_version": "1.2.0",
      "_view_name": "LayoutView",
      "align_content": null,
      "align_items": null,
      "align_self": null,
      "border": null,
      "bottom": null,
      "display": null,
      "flex": null,
      "flex_flow": null,
      "grid_area": null,
      "grid_auto_columns": null,
      "grid_auto_flow": null,
      "grid_auto_rows": null,
      "grid_column": null,
      "grid_gap": null,
      "grid_row": null,
      "grid_template_areas": null,
      "grid_template_columns": null,
      "grid_template_rows": null,
      "height": null,
      "justify_content": null,
      "justify_items": null,
      "left": null,
      "margin": null,
      "max_height": null,
      "max_width": null,
      "min_height": null,
      "min_width": null,
      "object_fit": null,
      "object_position": null,
      "order": null,
      "overflow": null,
      "overflow_x": null,
      "overflow_y": null,
      "padding": null,
      "right": null,
      "top": null,
      "visibility": null,
      "width": null
     }
    },
    "f0fcd559ea3a4e89af90394009080fd3": {
     "model_module": "@jupyter-widgets/controls",
     "model_name": "HBoxModel",
     "state": {
      "_dom_classes": [],
      "_model_module": "@jupyter-widgets/controls",
      "_model_module_version": "1.5.0",
      "_model_name": "HBoxModel",
      "_view_count": null,
      "_view_module": "@jupyter-widgets/controls",
      "_view_module_version": "1.5.0",
      "_view_name": "HBoxView",
      "box_style": "",
      "children": [
       "IPY_MODEL_2edc1ecd523e4a748e0b0110b7008136",
       "IPY_MODEL_fc4470a1ad9b4f008e1d329b5a8b7966"
      ],
      "layout": "IPY_MODEL_08f6934a1b7e4ce6a41648df03d5b928"
     }
    },
    "f2fcfc8fdfa642f1af49f096bb803fd1": {
     "model_module": "@jupyter-widgets/base",
     "model_name": "LayoutModel",
     "state": {
      "_model_module": "@jupyter-widgets/base",
      "_model_module_version": "1.2.0",
      "_model_name": "LayoutModel",
      "_view_count": null,
      "_view_module": "@jupyter-widgets/base",
      "_view_module_version": "1.2.0",
      "_view_name": "LayoutView",
      "align_content": null,
      "align_items": null,
      "align_self": null,
      "border": null,
      "bottom": null,
      "display": null,
      "flex": null,
      "flex_flow": null,
      "grid_area": null,
      "grid_auto_columns": null,
      "grid_auto_flow": null,
      "grid_auto_rows": null,
      "grid_column": null,
      "grid_gap": null,
      "grid_row": null,
      "grid_template_areas": null,
      "grid_template_columns": null,
      "grid_template_rows": null,
      "height": null,
      "justify_content": null,
      "justify_items": null,
      "left": null,
      "margin": null,
      "max_height": null,
      "max_width": null,
      "min_height": null,
      "min_width": null,
      "object_fit": null,
      "object_position": null,
      "order": null,
      "overflow": null,
      "overflow_x": null,
      "overflow_y": null,
      "padding": null,
      "right": null,
      "top": null,
      "visibility": null,
      "width": null
     }
    },
    "f441a86b2cdd451aa44aea563a1778f6": {
     "model_module": "@jupyter-widgets/base",
     "model_name": "LayoutModel",
     "state": {
      "_model_module": "@jupyter-widgets/base",
      "_model_module_version": "1.2.0",
      "_model_name": "LayoutModel",
      "_view_count": null,
      "_view_module": "@jupyter-widgets/base",
      "_view_module_version": "1.2.0",
      "_view_name": "LayoutView",
      "align_content": null,
      "align_items": null,
      "align_self": null,
      "border": null,
      "bottom": null,
      "display": null,
      "flex": null,
      "flex_flow": null,
      "grid_area": null,
      "grid_auto_columns": null,
      "grid_auto_flow": null,
      "grid_auto_rows": null,
      "grid_column": null,
      "grid_gap": null,
      "grid_row": null,
      "grid_template_areas": null,
      "grid_template_columns": null,
      "grid_template_rows": null,
      "height": null,
      "justify_content": null,
      "justify_items": null,
      "left": null,
      "margin": null,
      "max_height": null,
      "max_width": null,
      "min_height": null,
      "min_width": null,
      "object_fit": null,
      "object_position": null,
      "order": null,
      "overflow": null,
      "overflow_x": null,
      "overflow_y": null,
      "padding": null,
      "right": null,
      "top": null,
      "visibility": null,
      "width": null
     }
    },
    "fc4470a1ad9b4f008e1d329b5a8b7966": {
     "model_module": "@jupyter-widgets/controls",
     "model_name": "HTMLModel",
     "state": {
      "_dom_classes": [],
      "_model_module": "@jupyter-widgets/controls",
      "_model_module_version": "1.5.0",
      "_model_name": "HTMLModel",
      "_view_count": null,
      "_view_module": "@jupyter-widgets/controls",
      "_view_module_version": "1.5.0",
      "_view_name": "HTMLView",
      "description": "",
      "description_tooltip": null,
      "layout": "IPY_MODEL_cecbfde3048d4ce0b1156d76ec526d43",
      "placeholder": "​",
      "style": "IPY_MODEL_4a37067c4b78459c8a34d6722eec9d9f",
      "value": " 112/112 [00:00&lt;00:00, 116B/s]"
     }
    }
   }
  }
 },
 "nbformat": 4,
 "nbformat_minor": 1
}
